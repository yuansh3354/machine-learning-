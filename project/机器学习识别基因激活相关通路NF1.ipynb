{
 "cells": [
  {
   "cell_type": "markdown",
   "metadata": {},
   "source": [
    "---------------------------------------\n",
    "\n",
    "Title: \"机器学习实战\"\n",
    "\n",
    "Date: \"05/31/2020\"\n",
    "\n",
    "Tips : 正常人CTC数据\n",
    "\n",
    "Best Regards,\n",
    "\n",
    "Yuan.SH\n",
    "\n",
    "---------------------------------------\n",
    "\n",
    "Please contact with me via follow way:\n",
    "\n",
    "(a) E-mail :yuansh3354@163.com\n",
    "\n",
    "(b) QQ :1044532817\n",
    "\n",
    "(c) WeChat :Y1044532817\n",
    "\n",
    "---------------------------------------"
   ]
  },
  {
   "cell_type": "code",
   "execution_count": 1,
   "metadata": {
    "ExecuteTime": {
     "end_time": "2020-06-04T13:28:48.041307Z",
     "start_time": "2020-06-04T13:28:46.352948Z"
    }
   },
   "outputs": [
    {
     "name": "stdout",
     "output_type": "stream",
     "text": [
      "Once deleted, variables cannot be recovered. Proceed (y/[n])? y\n"
     ]
    }
   ],
   "source": [
    "reset"
   ]
  },
  {
   "cell_type": "markdown",
   "metadata": {},
   "source": [
    "### Add Moudle"
   ]
  },
  {
   "cell_type": "code",
   "execution_count": 2,
   "metadata": {
    "ExecuteTime": {
     "end_time": "2020-06-04T13:28:51.884160Z",
     "start_time": "2020-06-04T13:28:50.741609Z"
    },
    "code_folding": [],
    "scrolled": true
   },
   "outputs": [],
   "source": [
    "## 模块\n",
    "from statsmodels.robust.scale import mad\n",
    "from sklearn.preprocessing import StandardScaler  # 数据预处理\n",
    "from sklearn.pipeline import Pipeline  # 进行算法串联\n",
    "from sklearn.model_selection import GridSearchCV  # 网格搜索和交叉验证\n",
    "from sklearn.model_selection import train_test_split, cross_val_predict  # 数据分割和交叉验证\n",
    "from sklearn.linear_model import SGDClassifier  # 随机梯度下降分类器\n",
    "import seaborn as sns  # 数据可视化\n",
    "import matplotlib.pyplot as plt\n",
    "import csv\n",
    "import pandas as pd\n",
    "import warnings\n",
    "import sys\n",
    "import os\n",
    "wkd = '/Users/yuansh/Desktop/machine_learning/'\n",
    "\n",
    "# 网格搜索是一种搜索最佳超参数的方法\n",
    "# 主要用于离散形变量的搜索\n",
    "# 对应的连续性超参数的搜索方法\n",
    "# 是 RandomizedSearchCV\n",
    "\n",
    "# https://blog.csdn.net/weixin_40807247/article/details/82793220\n",
    "\n",
    "# sys.path.insert(0, os.path.join(wkd + 'scripts', 'util'))"
   ]
  },
  {
   "cell_type": "markdown",
   "metadata": {
    "ExecuteTime": {
     "end_time": "2020-06-01T07:25:08.176407Z",
     "start_time": "2020-06-01T07:25:08.174155Z"
    }
   },
   "source": [
    "### Define function"
   ]
  },
  {
   "cell_type": "code",
   "execution_count": 3,
   "metadata": {
    "ExecuteTime": {
     "end_time": "2020-06-04T08:44:48.720647Z",
     "start_time": "2020-06-04T08:44:48.708238Z"
    },
    "code_folding": [
     0,
     39,
     89
    ]
   },
   "outputs": [],
   "source": [
    "def get_threshold_metrics(y_true, y_pred, drop_intermediate=False,\n",
    "                          disease='all'):\n",
    "    \"\"\"\n",
    "    Retrieve true/false positive rates and auroc/aupr for class predictions\n",
    "\n",
    "    Arguments:\n",
    "    y_true - an array of gold standard mutation status\n",
    "    y_pred - an array of predicted mutation status\n",
    "    disease - a string that includes the corresponding TCGA study acronym\n",
    "\n",
    "    Output:\n",
    "    dict of AUROC, AUPR, pandas dataframes of ROC and PR data, and cancer-type\n",
    "    \"\"\"\n",
    "    import pandas as pd\n",
    "    from sklearn.metrics import roc_auc_score, roc_curve\n",
    "    from sklearn.metrics import precision_recall_curve, average_precision_score\n",
    "\n",
    "    roc_columns = ['fpr', 'tpr', 'threshold']\n",
    "    pr_columns = ['precision', 'recall', 'threshold']\n",
    "\n",
    "    if drop_intermediate:\n",
    "        roc_items = zip(roc_columns,\n",
    "                        roc_curve(y_true, y_pred, drop_intermediate=False))\n",
    "    else:\n",
    "        roc_items = zip(roc_columns, roc_curve(y_true, y_pred))\n",
    "\n",
    "    roc_df = pd.DataFrame.from_dict(dict(roc_items))\n",
    "\n",
    "    prec, rec, thresh = precision_recall_curve(y_true, y_pred)\n",
    "    pr_df = pd.DataFrame.from_records([prec, rec]).T\n",
    "    pr_df = pd.concat([pr_df, pd.Series(thresh)], ignore_index=True, axis=1)\n",
    "    pr_df.columns = pr_columns\n",
    "\n",
    "    auroc = roc_auc_score(y_true, y_pred, average='weighted')\n",
    "    aupr = average_precision_score(y_true, y_pred, average='weighted')\n",
    "\n",
    "    return {'auroc': auroc, 'aupr': aupr, 'roc_df': roc_df,\n",
    "            'pr_df': pr_df, 'disease': disease}\n",
    "\n",
    "def integrate_copy_number(y, cancer_genes_df, genes, loss_df, gain_df,\n",
    "                          include_mutation=True):\n",
    "    \"\"\"\n",
    "    Function to integrate copy number data to define gene activation or gene\n",
    "    inactivation events. Copy number loss results in gene inactivation events\n",
    "    and is important for tumor suppressor genes while copy number gain results\n",
    "    in gene activation events and is important for oncogenes.\n",
    "\n",
    "    Arguments:\n",
    "    y - pandas dataframe samples by genes where a 1 indicates event\n",
    "    cancer_genes_df - a dataframe listing bona fide cancer genes as defined by\n",
    "                      the 20/20 rule in Vogelstein et al. 2013\n",
    "    genes - the input list of genes to build the classifier for\n",
    "    loss_df - a sample by gene dataframe listing copy number loss events\n",
    "    gain_df - a sample by gene dataframe listing copy number gain events\n",
    "    include_mutation - boolean to decide to include mutation status\n",
    "    \"\"\"\n",
    "\n",
    "    # Find if the input genes are in this master list\n",
    "    # 提取基因信息\n",
    "    genes_sub = cancer_genes_df[cancer_genes_df['Gene Symbol'].isin(genes)]\n",
    "\n",
    "    # Add status to the Y matrix depending on if the gene is a tumor suppressor\n",
    "    # or an oncogene. An oncogene can be activated with copy number gains, but\n",
    "    # a tumor suppressor is inactivated with copy number loss\n",
    "    # 判断基因属于抑癌基因还是原癌基因\n",
    "    tumor_suppressor = genes_sub[genes_sub['Classification*'] == 'TSG']\n",
    "    oncogene = genes_sub[genes_sub['Classification*'] == 'Oncogene']\n",
    "\n",
    "    copy_loss_sub = loss_df[tumor_suppressor['Gene Symbol']]\n",
    "    copy_gain_sub = gain_df[oncogene['Gene Symbol']]\n",
    "\n",
    "    # Append to column names for visualization\n",
    "    # 将基因突变信息和表达谱结合\n",
    "    copy_loss_sub.columns = [col + '_loss' for col in copy_loss_sub.columns]\n",
    "    copy_gain_sub.columns = [col + '_gain' for col in copy_gain_sub.columns]\n",
    "\n",
    "    # Add columns to y matrix\n",
    "    y = y.join(copy_loss_sub)\n",
    "    y = y.join(copy_gain_sub)\n",
    "\n",
    "    # Fill missing data with zero (measured mutation but not copy number)\n",
    "    y = y.fillna(0)\n",
    "    y = y.astype(int)\n",
    "    \n",
    "    # 将基因表达剔除\n",
    "    if not include_mutation:\n",
    "        y = y.drop(genes, axis=1)\n",
    "    return y\n",
    "\n",
    "def shuffle_columns(gene):\n",
    "    \"\"\"\n",
    "    To be used in an `apply` pandas func to shuffle columns around a datafame\n",
    "    Import only\n",
    "    \"\"\"\n",
    "    import numpy as np\n",
    "    return np.random.permutation(gene.tolist())"
   ]
  },
  {
   "cell_type": "markdown",
   "metadata": {
    "ExecuteTime": {
     "end_time": "2020-05-31T12:19:08.757091Z",
     "start_time": "2020-05-31T12:19:08.755014Z"
    }
   },
   "source": [
    "### prepare repository"
   ]
  },
  {
   "cell_type": "markdown",
   "metadata": {},
   "source": [
    "#### 拷贝数"
   ]
  },
  {
   "cell_type": "code",
   "execution_count": 3,
   "metadata": {
    "ExecuteTime": {
     "end_time": "2020-06-04T13:34:04.042624Z",
     "start_time": "2020-06-04T13:29:33.877237Z"
    },
    "code_folding": []
   },
   "outputs": [],
   "source": [
    "# 读取路径\n",
    "copy_input_file = os.path.join(wkd + 'data', 'raw', 'pancan_GISTIC_threshold.tsv')\n",
    "# 导出路径\n",
    "copy_loss_file = os.path.join(wkd + 'data', 'copy_number_loss_status.tsv.gz')\n",
    "copy_gain_file = os.path.join(wkd + 'data', 'copy_number_gain_status.tsv.gz')\n",
    "sample_freeze_file = os.path.join(wkd + 'data', 'sample_freeze.tsv')\n",
    "\n",
    "# Load data\n",
    "copy_thresh_df = pd.read_table(copy_input_file, index_col=0) # 拷贝数表达谱\n",
    "copy_thresh_df.drop(['Locus ID', 'Cytoband'], axis=1, inplace=True) # 删除ID和染色体位置信息\n",
    "copy_thresh_df.columns = copy_thresh_df.columns.str[0:15] # TCGA样本编号的15个字符具有唯一标识性\n",
    "sample_freeze_df = pd.read_table(sample_freeze_file) # 导入各个样本的信息\n",
    "\n",
    "# subset data \n",
    "copy_thresh_df = copy_thresh_df.T # 行样本,列基因\n",
    "intersect = list(set(sorted(sample_freeze_df['SAMPLE_BARCODE'])).intersection(set(copy_thresh_df.index))) # 提取交集样本\n",
    "intersect = sorted(intersect)\n",
    "copy_thresh_df = copy_thresh_df.loc[intersect]\n",
    "copy_thresh_df = copy_thresh_df.fillna(0)\n",
    "copy_thresh_df = copy_thresh_df.astype(int)\n",
    "\n",
    "# 拷贝数表达谱中有5个值-2,-1,0,1,2\n",
    "# 只保留-2 (loss) 和 2 (gain)\n",
    "\n",
    "# loss\n",
    "copy_loss_df = copy_thresh_df.replace(to_replace=[1, 2, -1], value=0)\n",
    "copy_loss_df.replace(to_replace=-2, value=1, inplace=True)\n",
    "copy_loss_df.to_csv(copy_loss_file, sep='\\t', compression='gzip')\n",
    "\n",
    "# gain\n",
    "copy_gain_df = copy_thresh_df.replace(to_replace=[-1, -2, 1], value=0)\n",
    "copy_gain_df.replace(to_replace=2, value=1, inplace=True)\n",
    "copy_gain_df.to_csv(copy_gain_file, sep='\\t', compression='gzip')"
   ]
  },
  {
   "cell_type": "markdown",
   "metadata": {
    "ExecuteTime": {
     "end_time": "2020-05-31T14:46:15.392385Z",
     "start_time": "2020-05-31T14:44:30.420351Z"
    },
    "code_folding": []
   },
   "source": [
    "#### 表达谱和突变信息"
   ]
  },
  {
   "cell_type": "code",
   "execution_count": 4,
   "metadata": {
    "ExecuteTime": {
     "end_time": "2020-06-04T13:46:40.819176Z",
     "start_time": "2020-06-04T13:34:20.459495Z"
    },
    "code_folding": [],
    "scrolled": false
   },
   "outputs": [
    {
     "name": "stderr",
     "output_type": "stream",
     "text": [
      "/Users/yuansh/opt/anaconda3/lib/python3.7/site-packages/IPython/core/interactiveshell.py:3063: DtypeWarning: Columns (4) have mixed types.Specify dtype option on import or set low_memory=False.\n",
      "  interactivity=interactivity, compiler=compiler, result=result)\n"
     ]
    }
   ],
   "source": [
    "# 读取路径\n",
    "rna_file = os.path.join(wkd + 'data', 'raw', 'pancan_normalized_rnaseq.tsv')\n",
    "mut_file = os.path.join(wkd + 'data', 'raw', 'mc3.v0.2.8.PUBLIC.maf.gz')\n",
    "sample_freeze_file = os.path.join(wkd + 'data', 'raw',\n",
    "                                  'sampleset_freeze_version4_modify.csv')\n",
    "# 导出路径\n",
    "rna_out_file = os.path.join(wkd + 'data', 'pancan_rnaseq_freeze.tsv.gz')\n",
    "mut_out_file = os.path.join(wkd + 'data', 'pancan_mutation_freeze.tsv.gz')\n",
    "freeze_out_file = os.path.join(wkd + 'data', 'sample_freeze.tsv')\n",
    "burden_out_file = os.path.join(wkd + 'data', 'mutation_burden_freeze.tsv')\n",
    "\n",
    "# Load Datasets\n",
    "rnaseq_df = pd.read_table(rna_file, index_col=0)\n",
    "mutation_df = pd.read_table(mut_file)\n",
    "sample_freeze_df = pd.read_csv(sample_freeze_file)\n",
    "\n",
    "# Process RNAseq file\n",
    "rnaseq_df.index = rnaseq_df.index.map(lambda x: x.split('|')[0])\n",
    "rnaseq_df.columns = rnaseq_df.columns.str.slice(start=0, stop=15)\n",
    "rnaseq_df = rnaseq_df.drop('?').fillna(0).sort_index(axis=1)\n",
    "\n",
    "# clean data\n",
    "indexs = rnaseq_df.index.drop_duplicates(keep = False)\n",
    "rnaseq_df = rnaseq_df.loc[indexs].T\n",
    "\n",
    "# extract sample \n",
    "freeze_barcodes = set(sample_freeze_df.SAMPLE_BARCODE)\n",
    "freeze_barcodes = freeze_barcodes.intersection(set(rnaseq_df.index))\n",
    "\n",
    "# add annotion information\n",
    "mutation_df = mutation_df.assign(PATIENT_BARCODE=mutation_df\n",
    "                                 .Tumor_Sample_Barcode\n",
    "                                 .str.slice(start=0, stop=12))\n",
    "mutation_df = mutation_df.assign(SAMPLE_BARCODE=mutation_df\n",
    "                                 .Tumor_Sample_Barcode\n",
    "                                 .str.slice(start=0, stop=15))\n",
    "\n",
    "# 导出数据\n",
    "rnaseq_df = rnaseq_df.loc[freeze_barcodes, :]\n",
    "rnaseq_df = rnaseq_df[~rnaseq_df.index.duplicated()]\n",
    "rnaseq_df.to_csv(rna_out_file, sep='\\t', compression='gzip')\n",
    "\n",
    "# 染色体突变信息处理\n",
    "mutations = {\n",
    "    'Frame_Shift_Del',\n",
    "    'Frame_Shift_Ins',\n",
    "    'In_Frame_Del',\n",
    "    'In_Frame_Ins',\n",
    "    'Missense_Mutation',\n",
    "    'Nonsense_Mutation',\n",
    "    'Nonstop_Mutation',\n",
    "    'RNA',\n",
    "    'Splice_Site',\n",
    "    'Translation_Start_Site',\n",
    "}\n",
    "\n",
    "# query 提取满足条件的染色体变异\n",
    "# query 使用描述语句代替代码\n",
    "# 没什么屁用,就是让代码看的简洁一点\n",
    "mut_pivot = (mutation_df.query(\"Variant_Classification in @mutations\")\n",
    "                        .groupby(['SAMPLE_BARCODE', 'Chromosome',\n",
    "                                  'Hugo_Symbol'])\n",
    "                        .apply(len).reset_index()\n",
    "                        .rename(columns={0: 'mutation'}))\n",
    "# 转换突变矩阵\n",
    "mut_pivot = (mut_pivot.pivot_table(index='SAMPLE_BARCODE',\n",
    "                                   columns='Hugo_Symbol', values='mutation',\n",
    "                                   fill_value=0)\n",
    "                      .astype(bool).astype(int))\n",
    "\n",
    "# 删除没有突变信息的样本\n",
    "freeze_barcodes = freeze_barcodes.intersection(set(mut_pivot.index))\n",
    "mut_pivot = mut_pivot.loc[freeze_barcodes, :]\n",
    "mut_pivot = mut_pivot.astype(int)\n",
    "mut_pivot.to_csv(mut_out_file, sep='\\t', compression='gzip')\n",
    "\n",
    "\n",
    "# 计算基因突变负荷\n",
    "burden_df = mutation_df[mutation_df['Variant_Classification'].isin(mutations)]\n",
    "burden_df = burden_df.groupby('SAMPLE_BARCODE').apply(len)\n",
    "burden_df = np.log10(burden_df)\n",
    "burden_df = burden_df.loc[freeze_barcodes]\n",
    "burden_df = burden_df.fillna(0)\n",
    "burden_df = pd.DataFrame(burden_df, columns=['log10_mut'])\n",
    "burden_df.to_csv(burden_out_file, sep='\\t')\n",
    "\n",
    "# Write out finalized and subset sample freeze file\n",
    "sample_freeze_df = sample_freeze_df[sample_freeze_df.SAMPLE_BARCODE\n",
    "                                                    .isin(freeze_barcodes)]\n",
    "sample_freeze_df.to_csv(freeze_out_file, sep='\\t')"
   ]
  },
  {
   "cell_type": "markdown",
   "metadata": {},
   "source": [
    "### Classifier"
   ]
  },
  {
   "cell_type": "markdown",
   "metadata": {},
   "source": [
    "#### Data Load"
   ]
  },
  {
   "cell_type": "code",
   "execution_count": null,
   "metadata": {
    "ExecuteTime": {
     "start_time": "2020-06-04T08:46:00.203Z"
    },
    "code_folding": []
   },
   "outputs": [],
   "source": [
    "    expr_file = os.path.join( wkd + 'data', 'pancan_rnaseq_freeze.tsv.gz')\n",
    "    mut_file = os.path.join(wkd + 'data', 'pancan_mutation_freeze.tsv.gz')\n",
    "    mut_burden_file = os.path.join(wkd + 'data', 'mutation_burden_freeze.tsv')\n",
    "    sample_freeze_file = os.path.join(wkd + 'data', 'sample_freeze.tsv')\n",
    "    copy_loss_file = os.path.join(wkd + 'data', 'copy_number_loss_status.tsv.gz')\n",
    "    copy_gain_file = os.path.join(wkd + 'data', 'copy_number_gain_status.tsv.gz')\n",
    "    vogel_file = os.path.join(wkd + 'data', 'vogelstein_cancergenes.tsv')\n",
    "    \n",
    "    sample_freeze = pd.read_table(sample_freeze_file, index_col=0) # 样本肿瘤类型\n",
    "    mut_burden = pd.read_table(mut_burden_file) # 突变负荷\n",
    "    rnaseq_full_df = pd.read_table(expr_file, index_col=0, compression='gzip') # rna表达谱\n",
    "    mutation_df = pd.read_table(mut_file, index_col=0, compression='gzip') \n",
    "    copy_loss_df = pd.read_table(copy_loss_file, index_col=0)\n",
    "    copy_gain_df = pd.read_table(copy_gain_file, index_col=0)\n",
    "    cancer_genes = pd.read_table(vogel_file)"
   ]
  },
  {
   "cell_type": "code",
   "execution_count": null,
   "metadata": {
    "ExecuteTime": {
     "start_time": "2020-06-04T08:46:13.789Z"
    },
    "code_folding": []
   },
   "outputs": [],
   "source": [
    "## 默认\n",
    "    genes = 'NF1'  # 目标基因\n",
    "    diseases = 'Auto'# 探索的肿瘤类型\n",
    "    folds = 5 # 交叉验证\n",
    "    drop = False # 是否从rna谱中移除目标基因\n",
    "    drop_rasopathy = False # 移除ras 通路相关基因, 这里就是应用到了先验知识\n",
    "    copy_number = False\n",
    "    filter_count = 15\n",
    "    filter_prop = 0.05\n",
    "    num_features_kept = 8000\n",
    "    alphas = '0.1,0.13,0.15,0.18,0.2,0.25,0.3'# 列表推导式 [fun for val in collection if condition]\n",
    "    l1_ratios = '0.15,0.155,0.16,0.2,0.25,0.3,0.4'# 正则化筛选\n",
    "    alt_genes = 'None'\n",
    "    alt_filter_count = 15\n",
    "    alt_filter_prop = 0.05\n",
    "    alt_diseases = 'Auto'\n",
    "    alt_folder = 'Auto'\n",
    "    remove_hyper = False\n",
    "    keep_inter = False\n",
    "    x_matrix ='raw'\n",
    "    shuffled = False\n",
    "    shuffled_before_training = False\n",
    "    no_mutation = True\n",
    "    drop_expression = False\n",
    "    drop_covariates = False"
   ]
  },
  {
   "cell_type": "markdown",
   "metadata": {},
   "source": [
    "#### NF1分类器"
   ]
  },
  {
   "cell_type": "code",
   "execution_count": 8,
   "metadata": {
    "ExecuteTime": {
     "end_time": "2020-06-01T16:12:57.924146Z",
     "start_time": "2020-06-01T16:12:57.919588Z"
    }
   },
   "outputs": [],
   "source": [
    "### 参数\n",
    "    genes = 'NF1' \n",
    "    genes = genes.split(',')\n",
    "    drop = bool(~drop)\n",
    "    copy_number = bool(~copy_number)\n",
    "    diseases = 'BLCA,COAD,GBM,LGG,LUAD,LUSC,OV,PCPG,SARC,SKCM,STAD,UCEC'\n",
    "    diseases = diseases.split(',')  \n",
    "    alphas = '0.1,0.13,0.15,0.18,0.2,0.25,0.3'\n",
    "    alphas = [float(x) for x in alphas.split(',')] \n",
    "    l1_ratios = '0.15,0.155,0.16,0.2,0.25,0.3,0.4'\n",
    "    l1_ratios = [float(x) for x in l1_ratios.split(',')]  \n",
    "    remove_hyper = bool(~remove_hyper)\n",
    "    alt_folder = wkd + 'classifiers/NF1' \n",
    "    keep_inter = bool(~keep_inter)\n",
    "    shuffled = bool(~shuffled)"
   ]
  },
  {
   "cell_type": "code",
   "execution_count": 9,
   "metadata": {
    "ExecuteTime": {
     "end_time": "2020-06-01T16:14:34.588563Z",
     "start_time": "2020-06-01T16:12:59.234998Z"
    },
    "code_folding": [],
    "scrolled": true
   },
   "outputs": [
    {
     "data": {
      "text/plain": [
       "GridSearchCV(cv=5, error_score=nan,\n",
       "             estimator=Pipeline(memory=None,\n",
       "                                steps=[('classify',\n",
       "                                        SGDClassifier(alpha=0.0001,\n",
       "                                                      average=False,\n",
       "                                                      class_weight='balanced',\n",
       "                                                      early_stopping=False,\n",
       "                                                      epsilon=0.1, eta0=0.0,\n",
       "                                                      fit_intercept=True,\n",
       "                                                      l1_ratio=0.15,\n",
       "                                                      learning_rate='optimal',\n",
       "                                                      loss='log', max_iter=5,\n",
       "                                                      n_iter_no_change=5,\n",
       "                                                      n_jobs=None, penalty='l2',\n",
       "                                                      power_t=0.5,\n",
       "                                                      random_state=0,\n",
       "                                                      shuffle=T...\n",
       "                                                      validation_fraction=0.1,\n",
       "                                                      verbose=0,\n",
       "                                                      warm_start=False))],\n",
       "                                verbose=False),\n",
       "             iid='deprecated', n_jobs=-1,\n",
       "             param_grid={'classify__alpha': [0.1, 0.13, 0.15, 0.18, 0.2, 0.25,\n",
       "                                             0.3],\n",
       "                         'classify__l1_ratio': [0.15, 0.155, 0.16, 0.2, 0.25,\n",
       "                                                0.3, 0.4],\n",
       "                         'classify__loss': ['log'],\n",
       "                         'classify__penalty': ['elasticnet']},\n",
       "             pre_dispatch='2*n_jobs', refit=True, return_train_score=True,\n",
       "             scoring='roc_auc', verbose=0)"
      ]
     },
     "execution_count": 9,
     "metadata": {},
     "output_type": "execute_result"
    },
    {
     "data": {
      "text/plain": [
       "Text(0.5, 15.0, 'Regularization strength multiplier (alpha)')"
      ]
     },
     "execution_count": 9,
     "metadata": {},
     "output_type": "execute_result"
    },
    {
     "data": {
      "text/plain": [
       "Text(33.0, 0.5, 'Elastic net mixing parameter (l1_ratio)')"
      ]
     },
     "execution_count": 9,
     "metadata": {},
     "output_type": "execute_result"
    }
   ],
   "source": [
    "### 构建分类器\n",
    "common_genes = set(mutation_df.columns).intersection(genes)\n",
    "common_genes = list(common_genes.intersection(rnaseq_full_df.columns))\n",
    "y = mutation_df[common_genes] # 提取目标基因突变谱\n",
    "\n",
    "#### 将目标基因从表达谱中移除\n",
    "if drop:\n",
    "    rnaseq_full_df.drop(common_genes, axis=1, inplace=True)\n",
    "\n",
    "#### 将RAS通路相关的基因移除\n",
    "if drop_rasopathy:\n",
    "    rasopathy_genes = set(['BRAF', 'CBL', 'HRAS', 'KRAS', 'MAP2K1', 'MAP2K2',\n",
    "                           'NF1', 'NRAS', 'PTPN11', 'RAF1', 'SHOC2', 'SOS1',\n",
    "                           'SPRED1', 'RIT1'])\n",
    "    rasopathy_drop = list(rasopathy_genes.intersection(rnaseq_full_df.columns))\n",
    "    rnaseq_full_df.drop(rasopathy_drop, axis=1, inplace=True)\n",
    "#### 拷贝数变异信息\n",
    "if copy_number:\n",
    "    y = integrate_copy_number(y=y, cancer_genes_df=cancer_genes,\n",
    "                              genes=common_genes, loss_df=copy_loss_df,\n",
    "                              gain_df=copy_gain_df,\n",
    "                              include_mutation=no_mutation)\n",
    "#### 样本信息合并\n",
    "y = y.assign(total_status=y.max(axis=1))\n",
    "y = y.reset_index().merge(sample_freeze,\n",
    "                          how='left').set_index('SAMPLE_BARCODE')\n",
    "\n",
    "#### 根据不同种类疾病进行信息整理\n",
    "count_df = y.groupby('DISEASE').sum() # 计算不同疾病基因突变总数\n",
    "prop_df = count_df.divide(y['DISEASE'].value_counts(sort=False).sort_index(),\n",
    "                          axis=0) # 计算频率\n",
    "\n",
    "count_table = count_df.merge(prop_df, left_index=True, right_index=True,\n",
    "                             suffixes=('_count', '_proportion'))\n",
    "count_table.to_csv(\"classifiers/NF1/count_table_file.csv\")\n",
    "\n",
    "#### 提取数量信息和比例信息\n",
    "mut_count = count_df['total_status']\n",
    "prop = prop_df['total_status']\n",
    "\n",
    "#### 过滤疾病\n",
    "if diseases[0] == 'Auto':\n",
    "    filter_disease = (mut_count > filter_count) & (prop > filter_prop)\n",
    "    diseases = filter_disease.index[filter_disease].tolist()\n",
    "    \n",
    "#### 提取表达谱\n",
    "y_df = y[y.DISEASE.isin(diseases)].total_status # 基因突变信息\n",
    "common_samples = list(set(y_df.index) & set(rnaseq_full_df.index))\n",
    "y_df = y_df.loc[common_samples]\n",
    "rnaseq_df = rnaseq_full_df.loc[y_df.index, :]\n",
    "\n",
    "#### 过滤超高肿瘤突变负担数据\n",
    "if remove_hyper:\n",
    "    burden_filter = mut_burden['log10_mut'] < 5 * mut_burden['log10_mut'].std()\n",
    "    mut_burden = mut_burden[burden_filter]\n",
    "    \n",
    "#### 构建肿瘤突变负担,基因突变表\n",
    "y_matrix = mut_burden.merge(pd.DataFrame(y_df), right_index=True,\n",
    "                            left_on='SAMPLE_BARCODE')\\\n",
    "    .set_index('SAMPLE_BARCODE')\n",
    "\n",
    "#### 构建哑变量矩阵\n",
    "y_sub = y.loc[y_matrix.index]['DISEASE']\n",
    "covar_dummy = pd.get_dummies(sample_freeze['DISEASE']).astype(int) # 生成稀疏矩阵\n",
    "covar_dummy.index = sample_freeze['SAMPLE_BARCODE']\n",
    "covar = covar_dummy.merge(y_matrix, right_index=True, left_index=True)\n",
    "covar = covar.drop('total_status', axis=1)\n",
    "\n",
    "#### 构建信息矩阵\n",
    "y_df = y_df.loc[y_sub.index] # 基因突变矩阵\n",
    "strat = y_sub.str.cat(y_df.astype(str))  # 疾病类型\n",
    "x_df = rnaseq_df.loc[y_df.index, :] # 基因表达矩阵\n",
    "\n",
    "#### 提取候选基因\n",
    "if x_matrix == 'raw':\n",
    "    med_dev = pd.DataFrame(mad(x_df), index=x_df.columns) # 计算各个基因的绝对中位差\n",
    "    # 提取绝对中位差最大的8000个基因,这里的话绝对中位差越大,数据间分离的越散,原则上差异越大\n",
    "    mad_genes = med_dev.sort_values(by=0, ascending=False)\\\n",
    "                       .iloc[0:num_features_kept].index.tolist()\n",
    "    x_df = x_df.loc[:, mad_genes]\n",
    "\n",
    "#### 数据标准化\n",
    "fitted_scaler = StandardScaler().fit(x_df) # 减均值除方差\n",
    "x_df_update = pd.DataFrame(fitted_scaler.transform(x_df),\n",
    "                           columns=x_df.columns)\n",
    "x_df_update.index = x_df.index\n",
    "x_df = x_df_update.merge(covar, left_index=True, right_index=True)\n",
    "\n",
    "#### 移除干扰基因\n",
    "if drop_expression:\n",
    "    x_df = x_df.iloc[:, num_features_kept:]\n",
    "elif drop_covariates:\n",
    "    x_df = x_df.iloc[:, 0:num_features_kept]\n",
    "    \n",
    "#### 数据扰动\n",
    "if shuffled_before_training:\n",
    "    # Shuffle genes\n",
    "    x_train_genes = x_df.iloc[:, range(num_features_kept)]\n",
    "    rnaseq_shuffled_df = x_train_genes.apply(shuffle_columns, axis=1,\n",
    "                                             result_type='broadcast')\n",
    "\n",
    "    x_train_cov = x_df.iloc[:, num_features_kept:]\n",
    "    x_df = pd.concat([rnaseq_shuffled_df, x_train_cov], axis=1)\n",
    "\n",
    "#### 分类器\n",
    "x_train, x_test, y_train, y_test = train_test_split(x_df, y_df,\n",
    "                                                    test_size=0.1,\n",
    "                                                    random_state=0,\n",
    "                                                    stratify=strat)\n",
    "\n",
    "clf_parameters = {'classify__loss': ['log'],\n",
    "                  'classify__penalty': ['elasticnet'],\n",
    "                  'classify__alpha': alphas, 'classify__l1_ratio': l1_ratios}\n",
    "\n",
    "# pipeline 以元组的形势进行存储\n",
    "# steps [(name1,fuction1),(name2,function2)]\n",
    "# 随机梯度回归\n",
    "estimator = Pipeline(steps=[('classify', SGDClassifier(random_state=0,\n",
    "                                                       class_weight='balanced',\n",
    "                                                       loss='log',\n",
    "                                                       max_iter=5,\n",
    "                                                       tol=None))])\n",
    "# 网格搜索\n",
    "cv_pipeline = GridSearchCV(estimator=estimator, param_grid=clf_parameters,\n",
    "                           n_jobs=-1, cv=folds, scoring='roc_auc',\n",
    "                           return_train_score=True)\n",
    "cv_pipeline.fit(X=x_train, y=y_train)\n",
    "\n",
    "cv_results = pd.concat([pd.DataFrame(cv_pipeline.cv_results_)\n",
    "                          .drop('params', axis=1),\n",
    "                        pd.DataFrame.from_records(cv_pipeline\n",
    "                                                  .cv_results_['params'])],\n",
    "                       axis=1)\n",
    "#### 交叉验证\n",
    "cv_score_mat = pd.pivot_table(cv_results, values='mean_test_score',\n",
    "                              index='classify__l1_ratio',\n",
    "                              columns='classify__alpha')\n",
    "ax = sns.heatmap(cv_score_mat, annot=True, fmt='.1%')\n",
    "ax.set_xlabel('Regularization strength multiplier (alpha)')\n",
    "ax.set_ylabel('Elastic net mixing parameter (l1_ratio)')\n",
    "plt.tight_layout()\n",
    "plt.savefig(\"cv_heatmap_file.pdf\", dpi=600, bbox_inches='tight')\n",
    "plt.close()\n",
    "\n",
    "#### 预测\n",
    "y_predict_train = cv_pipeline.decision_function(x_train)\n",
    "y_predict_test = cv_pipeline.decision_function(x_test)\n",
    "metrics_train = get_threshold_metrics(y_train, y_predict_train,\n",
    "                                      drop_intermediate=keep_inter)\n",
    "metrics_test = get_threshold_metrics(y_test, y_predict_test,\n",
    "                                     drop_intermediate=keep_inter)\n",
    "#### 交叉验证\n",
    "y_cv = cross_val_predict(cv_pipeline.best_estimator_, X=x_train, y=y_train,\n",
    "                         cv=folds, method='decision_function')\n",
    "metrics_cv = get_threshold_metrics(y_train, y_cv,\n",
    "                                   drop_intermediate=keep_inter)\n",
    "\n",
    "#### 扰动\n",
    "if shuffled:\n",
    "    # Shuffle genes\n",
    "    x_train_genes = x_train.iloc[:, range(num_features_kept)]\n",
    "    rnaseq_shuffled_df = x_train_genes.apply(shuffle_columns, axis=1,\n",
    "                                             result_type='broadcast')\n",
    "\n",
    "    x_train_cov = x_train.iloc[:, num_features_kept:]\n",
    "    rnaseq_shuffled_df = pd.concat([rnaseq_shuffled_df, x_train_cov], axis=1)\n",
    "\n",
    "    y_predict_shuffled = cv_pipeline.decision_function(rnaseq_shuffled_df)\n",
    "    metrics_shuffled = get_threshold_metrics(y_train, y_predict_shuffled,\n",
    "                                             drop_intermediate=keep_inter)\n",
    "\n",
    "# 保存ROC结果\n",
    "if keep_inter:\n",
    "    train_roc = metrics_train['roc_df']\n",
    "    train_roc = train_roc.assign(train_type='train')\n",
    "    test_roc = metrics_test['roc_df']\n",
    "    test_roc = test_roc.assign(train_type='test')\n",
    "    cv_roc = metrics_cv['roc_df']\n",
    "    cv_roc = cv_roc.assign(train_type='cv')\n",
    "    full_roc_df = pd.concat([train_roc, test_roc, cv_roc])\n",
    "    if shuffled:\n",
    "        shuffled_roc = metrics_shuffled['roc_df']\n",
    "        shuffled_roc = shuffled_roc.assign(train_type='shuffled')\n",
    "        full_roc_df = pd.concat([full_roc_df, shuffled_roc])\n",
    "    full_roc_df = full_roc_df.assign(disease='PanCan')\n",
    "    \n",
    "sns.set_style(\"whitegrid\")\n",
    "plt.figure(figsize=(3, 3))\n",
    "total_auroc = {}\n",
    "colors = ['blue', 'green', 'orange', 'grey']\n",
    "idx = 0\n",
    "\n",
    "metrics_list = [('Training', metrics_train), ('Testing', metrics_test),\n",
    "                ('CV', metrics_cv)]\n",
    "if shuffled:\n",
    "    metrics_list += [('Random', metrics_shuffled)]\n",
    "\n",
    "for label, metrics in metrics_list:\n",
    "\n",
    "    roc_df = metrics['roc_df']\n",
    "    plt.plot(roc_df.fpr, roc_df.tpr,\n",
    "             label='{} (AUROC = {:.1%})'.format(label, metrics['auroc']),\n",
    "             linewidth=1, c=colors[idx])\n",
    "    total_auroc[label] = metrics['auroc']\n",
    "    idx += 1\n",
    "\n",
    "plt.axis('equal')\n",
    "plt.plot([0, 1], [0, 1], color='navy', linewidth=1, linestyle='--')\n",
    "plt.xlim([0.0, 1.0])\n",
    "plt.ylim([0.0, 1.05])\n",
    "plt.xlabel('False Positive Rate', fontsize=8)\n",
    "plt.ylabel('True Positive Rate', fontsize=8)\n",
    "plt.title('')\n",
    "plt.tick_params(labelsize=8)\n",
    "lgd = plt.legend(bbox_to_anchor=(1.03, 0.85),\n",
    "                 loc=2,\n",
    "                 borderaxespad=0.,\n",
    "                 fontsize=7.5)\n",
    "\n",
    "plt.savefig('full_roc_file.pdf', dpi=600, bbox_extra_artists=(lgd,),\n",
    "            bbox_inches='tight')\n",
    "plt.close()"
   ]
  },
  {
   "cell_type": "code",
   "execution_count": 18,
   "metadata": {
    "ExecuteTime": {
     "end_time": "2020-06-01T16:24:14.812994Z",
     "start_time": "2020-06-01T16:24:14.534789Z"
    }
   },
   "outputs": [
    {
     "data": {
      "text/plain": [
       "<Figure size 216x216 with 0 Axes>"
      ]
     },
     "execution_count": 18,
     "metadata": {},
     "output_type": "execute_result"
    },
    {
     "data": {
      "text/plain": [
       "[<matplotlib.lines.Line2D at 0x7f966edfef90>]"
      ]
     },
     "execution_count": 18,
     "metadata": {},
     "output_type": "execute_result"
    },
    {
     "data": {
      "text/plain": [
       "[<matplotlib.lines.Line2D at 0x7f931aa7cad0>]"
      ]
     },
     "execution_count": 18,
     "metadata": {},
     "output_type": "execute_result"
    },
    {
     "data": {
      "text/plain": [
       "[<matplotlib.lines.Line2D at 0x7f931aa7ca50>]"
      ]
     },
     "execution_count": 18,
     "metadata": {},
     "output_type": "execute_result"
    },
    {
     "data": {
      "text/plain": [
       "[<matplotlib.lines.Line2D at 0x7f931aa86790>]"
      ]
     },
     "execution_count": 18,
     "metadata": {},
     "output_type": "execute_result"
    },
    {
     "data": {
      "text/plain": [
       "(-0.05, 1.05, -0.05, 1.05)"
      ]
     },
     "execution_count": 18,
     "metadata": {},
     "output_type": "execute_result"
    },
    {
     "data": {
      "text/plain": [
       "[<matplotlib.lines.Line2D at 0x7f931aa86750>]"
      ]
     },
     "execution_count": 18,
     "metadata": {},
     "output_type": "execute_result"
    },
    {
     "data": {
      "text/plain": [
       "(0.0, 1.0)"
      ]
     },
     "execution_count": 18,
     "metadata": {},
     "output_type": "execute_result"
    },
    {
     "data": {
      "text/plain": [
       "(0.0, 1.05)"
      ]
     },
     "execution_count": 18,
     "metadata": {},
     "output_type": "execute_result"
    },
    {
     "data": {
      "text/plain": [
       "Text(0.5, 0, 'False Positive Rate')"
      ]
     },
     "execution_count": 18,
     "metadata": {},
     "output_type": "execute_result"
    },
    {
     "data": {
      "text/plain": [
       "Text(0, 0.5, 'True Positive Rate')"
      ]
     },
     "execution_count": 18,
     "metadata": {},
     "output_type": "execute_result"
    },
    {
     "data": {
      "text/plain": [
       "Text(0.5, 1.0, '')"
      ]
     },
     "execution_count": 18,
     "metadata": {},
     "output_type": "execute_result"
    }
   ],
   "source": [
    "sns.set_style(\"whitegrid\")\n",
    "plt.figure(figsize=(3, 3))\n",
    "total_auroc = {}\n",
    "colors = ['blue', 'green', 'orange', 'grey']\n",
    "idx = 0\n",
    "\n",
    "metrics_list = [('Training', metrics_train), ('Testing', metrics_test),\n",
    "                ('CV', metrics_cv)]\n",
    "if shuffled:\n",
    "    metrics_list += [('Random', metrics_shuffled)]\n",
    "\n",
    "for label, metrics in metrics_list:\n",
    "\n",
    "    roc_df = metrics['roc_df']\n",
    "    plt.plot(roc_df.fpr, roc_df.tpr,\n",
    "             label='{} (AUROC = {:.1%})'.format(label, metrics['auroc']),\n",
    "             linewidth=1, c=colors[idx])\n",
    "    total_auroc[label] = metrics['auroc']\n",
    "    idx += 1\n",
    "\n",
    "plt.axis('equal')\n",
    "plt.plot([0, 1], [0, 1], color='navy', linewidth=1, linestyle='--')\n",
    "plt.xlim([0.0, 1.0])\n",
    "plt.ylim([0.0, 1.05])\n",
    "plt.xlabel('False Positive Rate', fontsize=8)\n",
    "plt.ylabel('True Positive Rate', fontsize=8)\n",
    "plt.title('')\n",
    "plt.tick_params(labelsize=8)\n",
    "lgd = plt.legend(bbox_to_anchor=(1.03, 0.85),\n",
    "                 loc=2,\n",
    "                 borderaxespad=0.,\n",
    "                 fontsize=7.5)\n",
    "\n",
    "plt.savefig('full_roc_file.pdf', dpi=600, bbox_extra_artists=(lgd,),\n",
    "            bbox_inches='tight')\n",
    "plt.close()\n",
    "\n",
    "sns.set_style(\"whitegrid\")\n",
    "plt.figure(figsize=(3, 3))\n",
    "total_aupr = {}\n",
    "colors = ['blue', 'green', 'orange', 'grey']\n",
    "idx = 0\n",
    "\n",
    "metrics_list = [('Training', metrics_train), ('Testing', metrics_test),\n",
    "                ('CV', metrics_cv)]\n",
    "if shuffled:\n",
    "    metrics_list += [('Random', metrics_shuffled)]\n",
    "\n",
    "for label, metrics in metrics_list:\n",
    "    pr_df = metrics['pr_df']\n",
    "    plt.plot(pr_df.recall, pr_df.precision,\n",
    "             label='{} (AUPR = {:.1%})'.format(label, metrics['aupr']),\n",
    "             linewidth=1, c=colors[idx])\n",
    "    total_aupr[label] = metrics['aupr']\n",
    "    idx += 1\n",
    "\n",
    "plt.axis('equal')\n",
    "plt.xlim([0.0, 1.0])\n",
    "plt.ylim([0.0, 1.05])\n",
    "plt.xlabel('Recall', fontsize=8)\n",
    "plt.ylabel('Precision', fontsize=8)\n",
    "plt.title('')\n",
    "plt.tick_params(labelsize=8)\n",
    "lgd = plt.legend(bbox_to_anchor=(1.03, 0.85),\n",
    "                 loc=2,\n",
    "                 borderaxespad=0.,\n",
    "                 fontsize=7.5)\n",
    "\n",
    "plt.savefig('full_pr_file.pdf', dpi=600, bbox_extra_artists=(lgd,),\n",
    "            bbox_inches='tight')\n",
    "plt.close()"
   ]
  },
  {
   "cell_type": "code",
   "execution_count": 23,
   "metadata": {
    "ExecuteTime": {
     "end_time": "2020-06-02T01:16:40.470644Z",
     "start_time": "2020-06-02T01:16:29.037181Z"
    }
   },
   "outputs": [
    {
     "data": {
      "text/plain": [
       "<Figure size 216x216 with 0 Axes>"
      ]
     },
     "execution_count": 23,
     "metadata": {},
     "output_type": "execute_result"
    },
    {
     "data": {
      "text/plain": [
       "[<matplotlib.lines.Line2D at 0x7f931ac9be90>]"
      ]
     },
     "execution_count": 23,
     "metadata": {},
     "output_type": "execute_result"
    },
    {
     "data": {
      "text/plain": [
       "[<matplotlib.lines.Line2D at 0x7f931bcdf890>]"
      ]
     },
     "execution_count": 23,
     "metadata": {},
     "output_type": "execute_result"
    },
    {
     "data": {
      "text/plain": [
       "[<matplotlib.lines.Line2D at 0x7f931bcdfe90>]"
      ]
     },
     "execution_count": 23,
     "metadata": {},
     "output_type": "execute_result"
    },
    {
     "data": {
      "text/plain": [
       "[<matplotlib.lines.Line2D at 0x7f931caad6d0>]"
      ]
     },
     "execution_count": 23,
     "metadata": {},
     "output_type": "execute_result"
    },
    {
     "data": {
      "text/plain": [
       "(-0.05, 1.05, -0.05, 1.05)"
      ]
     },
     "execution_count": 23,
     "metadata": {},
     "output_type": "execute_result"
    },
    {
     "data": {
      "text/plain": [
       "(0.0, 1.0)"
      ]
     },
     "execution_count": 23,
     "metadata": {},
     "output_type": "execute_result"
    },
    {
     "data": {
      "text/plain": [
       "(0.0, 1.05)"
      ]
     },
     "execution_count": 23,
     "metadata": {},
     "output_type": "execute_result"
    },
    {
     "data": {
      "text/plain": [
       "Text(0.5, 0, 'Recall')"
      ]
     },
     "execution_count": 23,
     "metadata": {},
     "output_type": "execute_result"
    },
    {
     "data": {
      "text/plain": [
       "Text(0, 0.5, 'Precision')"
      ]
     },
     "execution_count": 23,
     "metadata": {},
     "output_type": "execute_result"
    },
    {
     "data": {
      "text/plain": [
       "Text(0.5, 1.0, '')"
      ]
     },
     "execution_count": 23,
     "metadata": {},
     "output_type": "execute_result"
    },
    {
     "data": {
      "text/plain": [
       "<Figure size 216x216 with 0 Axes>"
      ]
     },
     "execution_count": 23,
     "metadata": {},
     "output_type": "execute_result"
    },
    {
     "data": {
      "text/plain": [
       "[<matplotlib.lines.Line2D at 0x7f931aec53d0>]"
      ]
     },
     "execution_count": 23,
     "metadata": {},
     "output_type": "execute_result"
    },
    {
     "data": {
      "text/plain": [
       "[<matplotlib.lines.Line2D at 0x7f931aeb0a10>]"
      ]
     },
     "execution_count": 23,
     "metadata": {},
     "output_type": "execute_result"
    },
    {
     "data": {
      "text/plain": [
       "[<matplotlib.lines.Line2D at 0x7f931cac62d0>]"
      ]
     },
     "execution_count": 23,
     "metadata": {},
     "output_type": "execute_result"
    },
    {
     "data": {
      "text/plain": [
       "[<matplotlib.lines.Line2D at 0x7f931cac6b90>]"
      ]
     },
     "execution_count": 23,
     "metadata": {},
     "output_type": "execute_result"
    },
    {
     "data": {
      "text/plain": [
       "(-0.05, 1.05, -0.05, 1.05)"
      ]
     },
     "execution_count": 23,
     "metadata": {},
     "output_type": "execute_result"
    },
    {
     "data": {
      "text/plain": [
       "[<matplotlib.lines.Line2D at 0x7f931cac6710>]"
      ]
     },
     "execution_count": 23,
     "metadata": {},
     "output_type": "execute_result"
    },
    {
     "data": {
      "text/plain": [
       "(0.0, 1.0)"
      ]
     },
     "execution_count": 23,
     "metadata": {},
     "output_type": "execute_result"
    },
    {
     "data": {
      "text/plain": [
       "(0.0, 1.05)"
      ]
     },
     "execution_count": 23,
     "metadata": {},
     "output_type": "execute_result"
    },
    {
     "data": {
      "text/plain": [
       "Text(0.5, 0, 'False Positive Rate')"
      ]
     },
     "execution_count": 23,
     "metadata": {},
     "output_type": "execute_result"
    },
    {
     "data": {
      "text/plain": [
       "Text(0, 0.5, 'True Positive Rate')"
      ]
     },
     "execution_count": 23,
     "metadata": {},
     "output_type": "execute_result"
    },
    {
     "data": {
      "text/plain": [
       "Text(0.5, 1.0, '')"
      ]
     },
     "execution_count": 23,
     "metadata": {},
     "output_type": "execute_result"
    },
    {
     "data": {
      "text/plain": [
       "<Figure size 216x216 with 0 Axes>"
      ]
     },
     "execution_count": 23,
     "metadata": {},
     "output_type": "execute_result"
    },
    {
     "data": {
      "text/plain": [
       "[<matplotlib.lines.Line2D at 0x7f931ad27d50>]"
      ]
     },
     "execution_count": 23,
     "metadata": {},
     "output_type": "execute_result"
    },
    {
     "data": {
      "text/plain": [
       "[<matplotlib.lines.Line2D at 0x7f931bcd8e10>]"
      ]
     },
     "execution_count": 23,
     "metadata": {},
     "output_type": "execute_result"
    },
    {
     "data": {
      "text/plain": [
       "[<matplotlib.lines.Line2D at 0x7f931bcfe290>]"
      ]
     },
     "execution_count": 23,
     "metadata": {},
     "output_type": "execute_result"
    },
    {
     "data": {
      "text/plain": [
       "[<matplotlib.lines.Line2D at 0x7f931bcfe990>]"
      ]
     },
     "execution_count": 23,
     "metadata": {},
     "output_type": "execute_result"
    },
    {
     "data": {
      "text/plain": [
       "(-0.05, 1.05, -0.05, 1.05)"
      ]
     },
     "execution_count": 23,
     "metadata": {},
     "output_type": "execute_result"
    },
    {
     "data": {
      "text/plain": [
       "(0.0, 1.0)"
      ]
     },
     "execution_count": 23,
     "metadata": {},
     "output_type": "execute_result"
    },
    {
     "data": {
      "text/plain": [
       "(0.0, 1.05)"
      ]
     },
     "execution_count": 23,
     "metadata": {},
     "output_type": "execute_result"
    },
    {
     "data": {
      "text/plain": [
       "Text(0.5, 0, 'Recall')"
      ]
     },
     "execution_count": 23,
     "metadata": {},
     "output_type": "execute_result"
    },
    {
     "data": {
      "text/plain": [
       "Text(0, 0.5, 'Precision')"
      ]
     },
     "execution_count": 23,
     "metadata": {},
     "output_type": "execute_result"
    },
    {
     "data": {
      "text/plain": [
       "Text(0.5, 1.0, '')"
      ]
     },
     "execution_count": 23,
     "metadata": {},
     "output_type": "execute_result"
    },
    {
     "data": {
      "text/plain": [
       "<Figure size 216x216 with 0 Axes>"
      ]
     },
     "execution_count": 23,
     "metadata": {},
     "output_type": "execute_result"
    },
    {
     "data": {
      "text/plain": [
       "[<matplotlib.lines.Line2D at 0x7f931cb11190>]"
      ]
     },
     "execution_count": 23,
     "metadata": {},
     "output_type": "execute_result"
    },
    {
     "data": {
      "text/plain": [
       "[<matplotlib.lines.Line2D at 0x7f931cb217d0>]"
      ]
     },
     "execution_count": 23,
     "metadata": {},
     "output_type": "execute_result"
    },
    {
     "data": {
      "text/plain": [
       "[<matplotlib.lines.Line2D at 0x7f931cb21710>]"
      ]
     },
     "execution_count": 23,
     "metadata": {},
     "output_type": "execute_result"
    },
    {
     "data": {
      "text/plain": [
       "[<matplotlib.lines.Line2D at 0x7f931cb00510>]"
      ]
     },
     "execution_count": 23,
     "metadata": {},
     "output_type": "execute_result"
    },
    {
     "data": {
      "text/plain": [
       "(-0.05, 1.05, -0.05, 1.05)"
      ]
     },
     "execution_count": 23,
     "metadata": {},
     "output_type": "execute_result"
    },
    {
     "data": {
      "text/plain": [
       "[<matplotlib.lines.Line2D at 0x7f931cb00450>]"
      ]
     },
     "execution_count": 23,
     "metadata": {},
     "output_type": "execute_result"
    },
    {
     "data": {
      "text/plain": [
       "(0.0, 1.0)"
      ]
     },
     "execution_count": 23,
     "metadata": {},
     "output_type": "execute_result"
    },
    {
     "data": {
      "text/plain": [
       "(0.0, 1.05)"
      ]
     },
     "execution_count": 23,
     "metadata": {},
     "output_type": "execute_result"
    },
    {
     "data": {
      "text/plain": [
       "Text(0.5, 0, 'False Positive Rate')"
      ]
     },
     "execution_count": 23,
     "metadata": {},
     "output_type": "execute_result"
    },
    {
     "data": {
      "text/plain": [
       "Text(0, 0.5, 'True Positive Rate')"
      ]
     },
     "execution_count": 23,
     "metadata": {},
     "output_type": "execute_result"
    },
    {
     "data": {
      "text/plain": [
       "Text(0.5, 1.0, '')"
      ]
     },
     "execution_count": 23,
     "metadata": {},
     "output_type": "execute_result"
    },
    {
     "data": {
      "text/plain": [
       "<Figure size 216x216 with 0 Axes>"
      ]
     },
     "execution_count": 23,
     "metadata": {},
     "output_type": "execute_result"
    },
    {
     "data": {
      "text/plain": [
       "[<matplotlib.lines.Line2D at 0x7f931bfdffd0>]"
      ]
     },
     "execution_count": 23,
     "metadata": {},
     "output_type": "execute_result"
    },
    {
     "data": {
      "text/plain": [
       "[<matplotlib.lines.Line2D at 0x7f931bd9f8d0>]"
      ]
     },
     "execution_count": 23,
     "metadata": {},
     "output_type": "execute_result"
    },
    {
     "data": {
      "text/plain": [
       "[<matplotlib.lines.Line2D at 0x7f931b234710>]"
      ]
     },
     "execution_count": 23,
     "metadata": {},
     "output_type": "execute_result"
    },
    {
     "data": {
      "text/plain": [
       "[<matplotlib.lines.Line2D at 0x7f931b2345d0>]"
      ]
     },
     "execution_count": 23,
     "metadata": {},
     "output_type": "execute_result"
    },
    {
     "data": {
      "text/plain": [
       "(-0.05, 1.05, -0.05, 1.05)"
      ]
     },
     "execution_count": 23,
     "metadata": {},
     "output_type": "execute_result"
    },
    {
     "data": {
      "text/plain": [
       "(0.0, 1.0)"
      ]
     },
     "execution_count": 23,
     "metadata": {},
     "output_type": "execute_result"
    },
    {
     "data": {
      "text/plain": [
       "(0.0, 1.05)"
      ]
     },
     "execution_count": 23,
     "metadata": {},
     "output_type": "execute_result"
    },
    {
     "data": {
      "text/plain": [
       "Text(0.5, 0, 'Recall')"
      ]
     },
     "execution_count": 23,
     "metadata": {},
     "output_type": "execute_result"
    },
    {
     "data": {
      "text/plain": [
       "Text(0, 0.5, 'Precision')"
      ]
     },
     "execution_count": 23,
     "metadata": {},
     "output_type": "execute_result"
    },
    {
     "data": {
      "text/plain": [
       "Text(0.5, 1.0, '')"
      ]
     },
     "execution_count": 23,
     "metadata": {},
     "output_type": "execute_result"
    },
    {
     "data": {
      "text/plain": [
       "<Figure size 216x216 with 0 Axes>"
      ]
     },
     "execution_count": 23,
     "metadata": {},
     "output_type": "execute_result"
    },
    {
     "data": {
      "text/plain": [
       "[<matplotlib.lines.Line2D at 0x7f931b99f4d0>]"
      ]
     },
     "execution_count": 23,
     "metadata": {},
     "output_type": "execute_result"
    },
    {
     "data": {
      "text/plain": [
       "[<matplotlib.lines.Line2D at 0x7f931b898050>]"
      ]
     },
     "execution_count": 23,
     "metadata": {},
     "output_type": "execute_result"
    },
    {
     "data": {
      "text/plain": [
       "[<matplotlib.lines.Line2D at 0x7f931b898110>]"
      ]
     },
     "execution_count": 23,
     "metadata": {},
     "output_type": "execute_result"
    },
    {
     "data": {
      "text/plain": [
       "[<matplotlib.lines.Line2D at 0x7f931b98dd50>]"
      ]
     },
     "execution_count": 23,
     "metadata": {},
     "output_type": "execute_result"
    },
    {
     "data": {
      "text/plain": [
       "(-0.05, 1.05, -0.05, 1.05)"
      ]
     },
     "execution_count": 23,
     "metadata": {},
     "output_type": "execute_result"
    },
    {
     "data": {
      "text/plain": [
       "[<matplotlib.lines.Line2D at 0x7f931b98dcd0>]"
      ]
     },
     "execution_count": 23,
     "metadata": {},
     "output_type": "execute_result"
    },
    {
     "data": {
      "text/plain": [
       "(0.0, 1.0)"
      ]
     },
     "execution_count": 23,
     "metadata": {},
     "output_type": "execute_result"
    },
    {
     "data": {
      "text/plain": [
       "(0.0, 1.05)"
      ]
     },
     "execution_count": 23,
     "metadata": {},
     "output_type": "execute_result"
    },
    {
     "data": {
      "text/plain": [
       "Text(0.5, 0, 'False Positive Rate')"
      ]
     },
     "execution_count": 23,
     "metadata": {},
     "output_type": "execute_result"
    },
    {
     "data": {
      "text/plain": [
       "Text(0, 0.5, 'True Positive Rate')"
      ]
     },
     "execution_count": 23,
     "metadata": {},
     "output_type": "execute_result"
    },
    {
     "data": {
      "text/plain": [
       "Text(0.5, 1.0, '')"
      ]
     },
     "execution_count": 23,
     "metadata": {},
     "output_type": "execute_result"
    },
    {
     "data": {
      "text/plain": [
       "<Figure size 216x216 with 0 Axes>"
      ]
     },
     "execution_count": 23,
     "metadata": {},
     "output_type": "execute_result"
    },
    {
     "data": {
      "text/plain": [
       "[<matplotlib.lines.Line2D at 0x7f931bd22850>]"
      ]
     },
     "execution_count": 23,
     "metadata": {},
     "output_type": "execute_result"
    },
    {
     "data": {
      "text/plain": [
       "[<matplotlib.lines.Line2D at 0x7f931c260d90>]"
      ]
     },
     "execution_count": 23,
     "metadata": {},
     "output_type": "execute_result"
    },
    {
     "data": {
      "text/plain": [
       "[<matplotlib.lines.Line2D at 0x7f931c260350>]"
      ]
     },
     "execution_count": 23,
     "metadata": {},
     "output_type": "execute_result"
    },
    {
     "data": {
      "text/plain": [
       "[<matplotlib.lines.Line2D at 0x7f931b6d0d10>]"
      ]
     },
     "execution_count": 23,
     "metadata": {},
     "output_type": "execute_result"
    },
    {
     "data": {
      "text/plain": [
       "(-0.05, 1.05, -0.05, 1.05)"
      ]
     },
     "execution_count": 23,
     "metadata": {},
     "output_type": "execute_result"
    },
    {
     "data": {
      "text/plain": [
       "(0.0, 1.0)"
      ]
     },
     "execution_count": 23,
     "metadata": {},
     "output_type": "execute_result"
    },
    {
     "data": {
      "text/plain": [
       "(0.0, 1.05)"
      ]
     },
     "execution_count": 23,
     "metadata": {},
     "output_type": "execute_result"
    },
    {
     "data": {
      "text/plain": [
       "Text(0.5, 0, 'Recall')"
      ]
     },
     "execution_count": 23,
     "metadata": {},
     "output_type": "execute_result"
    },
    {
     "data": {
      "text/plain": [
       "Text(0, 0.5, 'Precision')"
      ]
     },
     "execution_count": 23,
     "metadata": {},
     "output_type": "execute_result"
    },
    {
     "data": {
      "text/plain": [
       "Text(0.5, 1.0, '')"
      ]
     },
     "execution_count": 23,
     "metadata": {},
     "output_type": "execute_result"
    },
    {
     "data": {
      "text/plain": [
       "<Figure size 216x216 with 0 Axes>"
      ]
     },
     "execution_count": 23,
     "metadata": {},
     "output_type": "execute_result"
    },
    {
     "data": {
      "text/plain": [
       "[<matplotlib.lines.Line2D at 0x7f931c1d4050>]"
      ]
     },
     "execution_count": 23,
     "metadata": {},
     "output_type": "execute_result"
    },
    {
     "data": {
      "text/plain": [
       "[<matplotlib.lines.Line2D at 0x7f931c326f10>]"
      ]
     },
     "execution_count": 23,
     "metadata": {},
     "output_type": "execute_result"
    },
    {
     "data": {
      "text/plain": [
       "[<matplotlib.lines.Line2D at 0x7f931c497e90>]"
      ]
     },
     "execution_count": 23,
     "metadata": {},
     "output_type": "execute_result"
    },
    {
     "data": {
      "text/plain": [
       "[<matplotlib.lines.Line2D at 0x7f931c4971d0>]"
      ]
     },
     "execution_count": 23,
     "metadata": {},
     "output_type": "execute_result"
    },
    {
     "data": {
      "text/plain": [
       "(-0.05, 1.05, -0.05, 1.05)"
      ]
     },
     "execution_count": 23,
     "metadata": {},
     "output_type": "execute_result"
    },
    {
     "data": {
      "text/plain": [
       "[<matplotlib.lines.Line2D at 0x7f931b9363d0>]"
      ]
     },
     "execution_count": 23,
     "metadata": {},
     "output_type": "execute_result"
    },
    {
     "data": {
      "text/plain": [
       "(0.0, 1.0)"
      ]
     },
     "execution_count": 23,
     "metadata": {},
     "output_type": "execute_result"
    },
    {
     "data": {
      "text/plain": [
       "(0.0, 1.05)"
      ]
     },
     "execution_count": 23,
     "metadata": {},
     "output_type": "execute_result"
    },
    {
     "data": {
      "text/plain": [
       "Text(0.5, 0, 'False Positive Rate')"
      ]
     },
     "execution_count": 23,
     "metadata": {},
     "output_type": "execute_result"
    },
    {
     "data": {
      "text/plain": [
       "Text(0, 0.5, 'True Positive Rate')"
      ]
     },
     "execution_count": 23,
     "metadata": {},
     "output_type": "execute_result"
    },
    {
     "data": {
      "text/plain": [
       "Text(0.5, 1.0, '')"
      ]
     },
     "execution_count": 23,
     "metadata": {},
     "output_type": "execute_result"
    },
    {
     "data": {
      "text/plain": [
       "<Figure size 216x216 with 0 Axes>"
      ]
     },
     "execution_count": 23,
     "metadata": {},
     "output_type": "execute_result"
    },
    {
     "data": {
      "text/plain": [
       "[<matplotlib.lines.Line2D at 0x7f931afb9790>]"
      ]
     },
     "execution_count": 23,
     "metadata": {},
     "output_type": "execute_result"
    },
    {
     "data": {
      "text/plain": [
       "[<matplotlib.lines.Line2D at 0x7f931b81c6d0>]"
      ]
     },
     "execution_count": 23,
     "metadata": {},
     "output_type": "execute_result"
    },
    {
     "data": {
      "text/plain": [
       "[<matplotlib.lines.Line2D at 0x7f931b81c910>]"
      ]
     },
     "execution_count": 23,
     "metadata": {},
     "output_type": "execute_result"
    },
    {
     "data": {
      "text/plain": [
       "[<matplotlib.lines.Line2D at 0x7f931b81c850>]"
      ]
     },
     "execution_count": 23,
     "metadata": {},
     "output_type": "execute_result"
    },
    {
     "data": {
      "text/plain": [
       "(-0.05, 1.05, -0.05, 1.05)"
      ]
     },
     "execution_count": 23,
     "metadata": {},
     "output_type": "execute_result"
    },
    {
     "data": {
      "text/plain": [
       "(0.0, 1.0)"
      ]
     },
     "execution_count": 23,
     "metadata": {},
     "output_type": "execute_result"
    },
    {
     "data": {
      "text/plain": [
       "(0.0, 1.05)"
      ]
     },
     "execution_count": 23,
     "metadata": {},
     "output_type": "execute_result"
    },
    {
     "data": {
      "text/plain": [
       "Text(0.5, 0, 'Recall')"
      ]
     },
     "execution_count": 23,
     "metadata": {},
     "output_type": "execute_result"
    },
    {
     "data": {
      "text/plain": [
       "Text(0, 0.5, 'Precision')"
      ]
     },
     "execution_count": 23,
     "metadata": {},
     "output_type": "execute_result"
    },
    {
     "data": {
      "text/plain": [
       "Text(0.5, 1.0, '')"
      ]
     },
     "execution_count": 23,
     "metadata": {},
     "output_type": "execute_result"
    },
    {
     "data": {
      "text/plain": [
       "<Figure size 216x216 with 0 Axes>"
      ]
     },
     "execution_count": 23,
     "metadata": {},
     "output_type": "execute_result"
    },
    {
     "data": {
      "text/plain": [
       "[<matplotlib.lines.Line2D at 0x7f931b99c210>]"
      ]
     },
     "execution_count": 23,
     "metadata": {},
     "output_type": "execute_result"
    },
    {
     "data": {
      "text/plain": [
       "[<matplotlib.lines.Line2D at 0x7f931b89dd90>]"
      ]
     },
     "execution_count": 23,
     "metadata": {},
     "output_type": "execute_result"
    },
    {
     "data": {
      "text/plain": [
       "[<matplotlib.lines.Line2D at 0x7f931b89db90>]"
      ]
     },
     "execution_count": 23,
     "metadata": {},
     "output_type": "execute_result"
    },
    {
     "data": {
      "text/plain": [
       "[<matplotlib.lines.Line2D at 0x7f931bc50f90>]"
      ]
     },
     "execution_count": 23,
     "metadata": {},
     "output_type": "execute_result"
    },
    {
     "data": {
      "text/plain": [
       "(-0.05, 1.05, -0.05, 1.05)"
      ]
     },
     "execution_count": 23,
     "metadata": {},
     "output_type": "execute_result"
    },
    {
     "data": {
      "text/plain": [
       "[<matplotlib.lines.Line2D at 0x7f931bc50f50>]"
      ]
     },
     "execution_count": 23,
     "metadata": {},
     "output_type": "execute_result"
    },
    {
     "data": {
      "text/plain": [
       "(0.0, 1.0)"
      ]
     },
     "execution_count": 23,
     "metadata": {},
     "output_type": "execute_result"
    },
    {
     "data": {
      "text/plain": [
       "(0.0, 1.05)"
      ]
     },
     "execution_count": 23,
     "metadata": {},
     "output_type": "execute_result"
    },
    {
     "data": {
      "text/plain": [
       "Text(0.5, 0, 'False Positive Rate')"
      ]
     },
     "execution_count": 23,
     "metadata": {},
     "output_type": "execute_result"
    },
    {
     "data": {
      "text/plain": [
       "Text(0, 0.5, 'True Positive Rate')"
      ]
     },
     "execution_count": 23,
     "metadata": {},
     "output_type": "execute_result"
    },
    {
     "data": {
      "text/plain": [
       "Text(0.5, 1.0, '')"
      ]
     },
     "execution_count": 23,
     "metadata": {},
     "output_type": "execute_result"
    },
    {
     "data": {
      "text/plain": [
       "<Figure size 216x216 with 0 Axes>"
      ]
     },
     "execution_count": 23,
     "metadata": {},
     "output_type": "execute_result"
    },
    {
     "data": {
      "text/plain": [
       "[<matplotlib.lines.Line2D at 0x7f931bd10310>]"
      ]
     },
     "execution_count": 23,
     "metadata": {},
     "output_type": "execute_result"
    },
    {
     "data": {
      "text/plain": [
       "[<matplotlib.lines.Line2D at 0x7f931bf16b10>]"
      ]
     },
     "execution_count": 23,
     "metadata": {},
     "output_type": "execute_result"
    },
    {
     "data": {
      "text/plain": [
       "[<matplotlib.lines.Line2D at 0x7f931bf169d0>]"
      ]
     },
     "execution_count": 23,
     "metadata": {},
     "output_type": "execute_result"
    },
    {
     "data": {
      "text/plain": [
       "[<matplotlib.lines.Line2D at 0x7f931bf38fd0>]"
      ]
     },
     "execution_count": 23,
     "metadata": {},
     "output_type": "execute_result"
    },
    {
     "data": {
      "text/plain": [
       "(-0.05, 1.05, -0.05, 1.05)"
      ]
     },
     "execution_count": 23,
     "metadata": {},
     "output_type": "execute_result"
    },
    {
     "data": {
      "text/plain": [
       "(0.0, 1.0)"
      ]
     },
     "execution_count": 23,
     "metadata": {},
     "output_type": "execute_result"
    },
    {
     "data": {
      "text/plain": [
       "(0.0, 1.05)"
      ]
     },
     "execution_count": 23,
     "metadata": {},
     "output_type": "execute_result"
    },
    {
     "data": {
      "text/plain": [
       "Text(0.5, 0, 'Recall')"
      ]
     },
     "execution_count": 23,
     "metadata": {},
     "output_type": "execute_result"
    },
    {
     "data": {
      "text/plain": [
       "Text(0, 0.5, 'Precision')"
      ]
     },
     "execution_count": 23,
     "metadata": {},
     "output_type": "execute_result"
    },
    {
     "data": {
      "text/plain": [
       "Text(0.5, 1.0, '')"
      ]
     },
     "execution_count": 23,
     "metadata": {},
     "output_type": "execute_result"
    },
    {
     "data": {
      "text/plain": [
       "<Figure size 216x216 with 0 Axes>"
      ]
     },
     "execution_count": 23,
     "metadata": {},
     "output_type": "execute_result"
    },
    {
     "data": {
      "text/plain": [
       "[<matplotlib.lines.Line2D at 0x7f931c109ad0>]"
      ]
     },
     "execution_count": 23,
     "metadata": {},
     "output_type": "execute_result"
    },
    {
     "data": {
      "text/plain": [
       "[<matplotlib.lines.Line2D at 0x7f931beb23d0>]"
      ]
     },
     "execution_count": 23,
     "metadata": {},
     "output_type": "execute_result"
    },
    {
     "data": {
      "text/plain": [
       "[<matplotlib.lines.Line2D at 0x7f931c0f75d0>]"
      ]
     },
     "execution_count": 23,
     "metadata": {},
     "output_type": "execute_result"
    },
    {
     "data": {
      "text/plain": [
       "[<matplotlib.lines.Line2D at 0x7f931c054e10>]"
      ]
     },
     "execution_count": 23,
     "metadata": {},
     "output_type": "execute_result"
    },
    {
     "data": {
      "text/plain": [
       "(-0.05, 1.05, -0.05, 1.05)"
      ]
     },
     "execution_count": 23,
     "metadata": {},
     "output_type": "execute_result"
    },
    {
     "data": {
      "text/plain": [
       "[<matplotlib.lines.Line2D at 0x7f931c191590>]"
      ]
     },
     "execution_count": 23,
     "metadata": {},
     "output_type": "execute_result"
    },
    {
     "data": {
      "text/plain": [
       "(0.0, 1.0)"
      ]
     },
     "execution_count": 23,
     "metadata": {},
     "output_type": "execute_result"
    },
    {
     "data": {
      "text/plain": [
       "(0.0, 1.05)"
      ]
     },
     "execution_count": 23,
     "metadata": {},
     "output_type": "execute_result"
    },
    {
     "data": {
      "text/plain": [
       "Text(0.5, 0, 'False Positive Rate')"
      ]
     },
     "execution_count": 23,
     "metadata": {},
     "output_type": "execute_result"
    },
    {
     "data": {
      "text/plain": [
       "Text(0, 0.5, 'True Positive Rate')"
      ]
     },
     "execution_count": 23,
     "metadata": {},
     "output_type": "execute_result"
    },
    {
     "data": {
      "text/plain": [
       "Text(0.5, 1.0, '')"
      ]
     },
     "execution_count": 23,
     "metadata": {},
     "output_type": "execute_result"
    },
    {
     "data": {
      "text/plain": [
       "<Figure size 216x216 with 0 Axes>"
      ]
     },
     "execution_count": 23,
     "metadata": {},
     "output_type": "execute_result"
    },
    {
     "data": {
      "text/plain": [
       "[<matplotlib.lines.Line2D at 0x7f931c11ffd0>]"
      ]
     },
     "execution_count": 23,
     "metadata": {},
     "output_type": "execute_result"
    },
    {
     "data": {
      "text/plain": [
       "[<matplotlib.lines.Line2D at 0x7f931c288b90>]"
      ]
     },
     "execution_count": 23,
     "metadata": {},
     "output_type": "execute_result"
    },
    {
     "data": {
      "text/plain": [
       "[<matplotlib.lines.Line2D at 0x7f931c288dd0>]"
      ]
     },
     "execution_count": 23,
     "metadata": {},
     "output_type": "execute_result"
    },
    {
     "data": {
      "text/plain": [
       "[<matplotlib.lines.Line2D at 0x7f931c339990>]"
      ]
     },
     "execution_count": 23,
     "metadata": {},
     "output_type": "execute_result"
    },
    {
     "data": {
      "text/plain": [
       "(-0.05, 1.05, -0.05, 1.05)"
      ]
     },
     "execution_count": 23,
     "metadata": {},
     "output_type": "execute_result"
    },
    {
     "data": {
      "text/plain": [
       "(0.0, 1.0)"
      ]
     },
     "execution_count": 23,
     "metadata": {},
     "output_type": "execute_result"
    },
    {
     "data": {
      "text/plain": [
       "(0.0, 1.05)"
      ]
     },
     "execution_count": 23,
     "metadata": {},
     "output_type": "execute_result"
    },
    {
     "data": {
      "text/plain": [
       "Text(0.5, 0, 'Recall')"
      ]
     },
     "execution_count": 23,
     "metadata": {},
     "output_type": "execute_result"
    },
    {
     "data": {
      "text/plain": [
       "Text(0, 0.5, 'Precision')"
      ]
     },
     "execution_count": 23,
     "metadata": {},
     "output_type": "execute_result"
    },
    {
     "data": {
      "text/plain": [
       "Text(0.5, 1.0, '')"
      ]
     },
     "execution_count": 23,
     "metadata": {},
     "output_type": "execute_result"
    },
    {
     "data": {
      "text/plain": [
       "<Figure size 216x216 with 0 Axes>"
      ]
     },
     "execution_count": 23,
     "metadata": {},
     "output_type": "execute_result"
    },
    {
     "data": {
      "text/plain": [
       "[<matplotlib.lines.Line2D at 0x7f931c5ff7d0>]"
      ]
     },
     "execution_count": 23,
     "metadata": {},
     "output_type": "execute_result"
    },
    {
     "data": {
      "text/plain": [
       "[<matplotlib.lines.Line2D at 0x7f931c5d5550>]"
      ]
     },
     "execution_count": 23,
     "metadata": {},
     "output_type": "execute_result"
    },
    {
     "data": {
      "text/plain": [
       "[<matplotlib.lines.Line2D at 0x7f931c5c1890>]"
      ]
     },
     "execution_count": 23,
     "metadata": {},
     "output_type": "execute_result"
    },
    {
     "data": {
      "text/plain": [
       "[<matplotlib.lines.Line2D at 0x7f931c5c1290>]"
      ]
     },
     "execution_count": 23,
     "metadata": {},
     "output_type": "execute_result"
    },
    {
     "data": {
      "text/plain": [
       "(-0.05, 1.05, -0.05, 1.05)"
      ]
     },
     "execution_count": 23,
     "metadata": {},
     "output_type": "execute_result"
    },
    {
     "data": {
      "text/plain": [
       "[<matplotlib.lines.Line2D at 0x7f931c5ff5d0>]"
      ]
     },
     "execution_count": 23,
     "metadata": {},
     "output_type": "execute_result"
    },
    {
     "data": {
      "text/plain": [
       "(0.0, 1.0)"
      ]
     },
     "execution_count": 23,
     "metadata": {},
     "output_type": "execute_result"
    },
    {
     "data": {
      "text/plain": [
       "(0.0, 1.05)"
      ]
     },
     "execution_count": 23,
     "metadata": {},
     "output_type": "execute_result"
    },
    {
     "data": {
      "text/plain": [
       "Text(0.5, 0, 'False Positive Rate')"
      ]
     },
     "execution_count": 23,
     "metadata": {},
     "output_type": "execute_result"
    },
    {
     "data": {
      "text/plain": [
       "Text(0, 0.5, 'True Positive Rate')"
      ]
     },
     "execution_count": 23,
     "metadata": {},
     "output_type": "execute_result"
    },
    {
     "data": {
      "text/plain": [
       "Text(0.5, 1.0, '')"
      ]
     },
     "execution_count": 23,
     "metadata": {},
     "output_type": "execute_result"
    },
    {
     "data": {
      "text/plain": [
       "<Figure size 216x216 with 0 Axes>"
      ]
     },
     "execution_count": 23,
     "metadata": {},
     "output_type": "execute_result"
    },
    {
     "data": {
      "text/plain": [
       "[<matplotlib.lines.Line2D at 0x7f931b570e90>]"
      ]
     },
     "execution_count": 23,
     "metadata": {},
     "output_type": "execute_result"
    },
    {
     "data": {
      "text/plain": [
       "[<matplotlib.lines.Line2D at 0x7f931c67c090>]"
      ]
     },
     "execution_count": 23,
     "metadata": {},
     "output_type": "execute_result"
    },
    {
     "data": {
      "text/plain": [
       "[<matplotlib.lines.Line2D at 0x7f931c8e5210>]"
      ]
     },
     "execution_count": 23,
     "metadata": {},
     "output_type": "execute_result"
    },
    {
     "data": {
      "text/plain": [
       "[<matplotlib.lines.Line2D at 0x7f931c8e55d0>]"
      ]
     },
     "execution_count": 23,
     "metadata": {},
     "output_type": "execute_result"
    },
    {
     "data": {
      "text/plain": [
       "(-0.05, 1.05, -0.05, 1.05)"
      ]
     },
     "execution_count": 23,
     "metadata": {},
     "output_type": "execute_result"
    },
    {
     "data": {
      "text/plain": [
       "(0.0, 1.0)"
      ]
     },
     "execution_count": 23,
     "metadata": {},
     "output_type": "execute_result"
    },
    {
     "data": {
      "text/plain": [
       "(0.0, 1.05)"
      ]
     },
     "execution_count": 23,
     "metadata": {},
     "output_type": "execute_result"
    },
    {
     "data": {
      "text/plain": [
       "Text(0.5, 0, 'Recall')"
      ]
     },
     "execution_count": 23,
     "metadata": {},
     "output_type": "execute_result"
    },
    {
     "data": {
      "text/plain": [
       "Text(0, 0.5, 'Precision')"
      ]
     },
     "execution_count": 23,
     "metadata": {},
     "output_type": "execute_result"
    },
    {
     "data": {
      "text/plain": [
       "Text(0.5, 1.0, '')"
      ]
     },
     "execution_count": 23,
     "metadata": {},
     "output_type": "execute_result"
    },
    {
     "data": {
      "text/plain": [
       "<Figure size 216x216 with 0 Axes>"
      ]
     },
     "execution_count": 23,
     "metadata": {},
     "output_type": "execute_result"
    },
    {
     "data": {
      "text/plain": [
       "[<matplotlib.lines.Line2D at 0x7f931b506e90>]"
      ]
     },
     "execution_count": 23,
     "metadata": {},
     "output_type": "execute_result"
    },
    {
     "data": {
      "text/plain": [
       "[<matplotlib.lines.Line2D at 0x7f931b503a90>]"
      ]
     },
     "execution_count": 23,
     "metadata": {},
     "output_type": "execute_result"
    },
    {
     "data": {
      "text/plain": [
       "[<matplotlib.lines.Line2D at 0x7f931b3c57d0>]"
      ]
     },
     "execution_count": 23,
     "metadata": {},
     "output_type": "execute_result"
    },
    {
     "data": {
      "text/plain": [
       "[<matplotlib.lines.Line2D at 0x7f9319374a50>]"
      ]
     },
     "execution_count": 23,
     "metadata": {},
     "output_type": "execute_result"
    },
    {
     "data": {
      "text/plain": [
       "(-0.05, 1.05, -0.05, 1.05)"
      ]
     },
     "execution_count": 23,
     "metadata": {},
     "output_type": "execute_result"
    },
    {
     "data": {
      "text/plain": [
       "[<matplotlib.lines.Line2D at 0x7f9319374c10>]"
      ]
     },
     "execution_count": 23,
     "metadata": {},
     "output_type": "execute_result"
    },
    {
     "data": {
      "text/plain": [
       "(0.0, 1.0)"
      ]
     },
     "execution_count": 23,
     "metadata": {},
     "output_type": "execute_result"
    },
    {
     "data": {
      "text/plain": [
       "(0.0, 1.05)"
      ]
     },
     "execution_count": 23,
     "metadata": {},
     "output_type": "execute_result"
    },
    {
     "data": {
      "text/plain": [
       "Text(0.5, 0, 'False Positive Rate')"
      ]
     },
     "execution_count": 23,
     "metadata": {},
     "output_type": "execute_result"
    },
    {
     "data": {
      "text/plain": [
       "Text(0, 0.5, 'True Positive Rate')"
      ]
     },
     "execution_count": 23,
     "metadata": {},
     "output_type": "execute_result"
    },
    {
     "data": {
      "text/plain": [
       "Text(0.5, 1.0, '')"
      ]
     },
     "execution_count": 23,
     "metadata": {},
     "output_type": "execute_result"
    },
    {
     "data": {
      "text/plain": [
       "<Figure size 216x216 with 0 Axes>"
      ]
     },
     "execution_count": 23,
     "metadata": {},
     "output_type": "execute_result"
    },
    {
     "data": {
      "text/plain": [
       "[<matplotlib.lines.Line2D at 0x7f931baac150>]"
      ]
     },
     "execution_count": 23,
     "metadata": {},
     "output_type": "execute_result"
    },
    {
     "data": {
      "text/plain": [
       "[<matplotlib.lines.Line2D at 0x7f931b82f1d0>]"
      ]
     },
     "execution_count": 23,
     "metadata": {},
     "output_type": "execute_result"
    },
    {
     "data": {
      "text/plain": [
       "[<matplotlib.lines.Line2D at 0x7f9319f43c90>]"
      ]
     },
     "execution_count": 23,
     "metadata": {},
     "output_type": "execute_result"
    },
    {
     "data": {
      "text/plain": [
       "[<matplotlib.lines.Line2D at 0x7f931c8a3710>]"
      ]
     },
     "execution_count": 23,
     "metadata": {},
     "output_type": "execute_result"
    },
    {
     "data": {
      "text/plain": [
       "(-0.05, 1.05, -0.05, 1.05)"
      ]
     },
     "execution_count": 23,
     "metadata": {},
     "output_type": "execute_result"
    },
    {
     "data": {
      "text/plain": [
       "(0.0, 1.0)"
      ]
     },
     "execution_count": 23,
     "metadata": {},
     "output_type": "execute_result"
    },
    {
     "data": {
      "text/plain": [
       "(0.0, 1.05)"
      ]
     },
     "execution_count": 23,
     "metadata": {},
     "output_type": "execute_result"
    },
    {
     "data": {
      "text/plain": [
       "Text(0.5, 0, 'Recall')"
      ]
     },
     "execution_count": 23,
     "metadata": {},
     "output_type": "execute_result"
    },
    {
     "data": {
      "text/plain": [
       "Text(0, 0.5, 'Precision')"
      ]
     },
     "execution_count": 23,
     "metadata": {},
     "output_type": "execute_result"
    },
    {
     "data": {
      "text/plain": [
       "Text(0.5, 1.0, '')"
      ]
     },
     "execution_count": 23,
     "metadata": {},
     "output_type": "execute_result"
    },
    {
     "data": {
      "text/plain": [
       "<Figure size 216x216 with 0 Axes>"
      ]
     },
     "execution_count": 23,
     "metadata": {},
     "output_type": "execute_result"
    },
    {
     "data": {
      "text/plain": [
       "[<matplotlib.lines.Line2D at 0x7f931b8ec1d0>]"
      ]
     },
     "execution_count": 23,
     "metadata": {},
     "output_type": "execute_result"
    },
    {
     "data": {
      "text/plain": [
       "[<matplotlib.lines.Line2D at 0x7f931be6ed90>]"
      ]
     },
     "execution_count": 23,
     "metadata": {},
     "output_type": "execute_result"
    },
    {
     "data": {
      "text/plain": [
       "[<matplotlib.lines.Line2D at 0x7f931c683cd0>]"
      ]
     },
     "execution_count": 23,
     "metadata": {},
     "output_type": "execute_result"
    },
    {
     "data": {
      "text/plain": [
       "[<matplotlib.lines.Line2D at 0x7f931c683350>]"
      ]
     },
     "execution_count": 23,
     "metadata": {},
     "output_type": "execute_result"
    },
    {
     "data": {
      "text/plain": [
       "(-0.05, 1.05, -0.05, 1.05)"
      ]
     },
     "execution_count": 23,
     "metadata": {},
     "output_type": "execute_result"
    },
    {
     "data": {
      "text/plain": [
       "[<matplotlib.lines.Line2D at 0x7f931c5cc490>]"
      ]
     },
     "execution_count": 23,
     "metadata": {},
     "output_type": "execute_result"
    },
    {
     "data": {
      "text/plain": [
       "(0.0, 1.0)"
      ]
     },
     "execution_count": 23,
     "metadata": {},
     "output_type": "execute_result"
    },
    {
     "data": {
      "text/plain": [
       "(0.0, 1.05)"
      ]
     },
     "execution_count": 23,
     "metadata": {},
     "output_type": "execute_result"
    },
    {
     "data": {
      "text/plain": [
       "Text(0.5, 0, 'False Positive Rate')"
      ]
     },
     "execution_count": 23,
     "metadata": {},
     "output_type": "execute_result"
    },
    {
     "data": {
      "text/plain": [
       "Text(0, 0.5, 'True Positive Rate')"
      ]
     },
     "execution_count": 23,
     "metadata": {},
     "output_type": "execute_result"
    },
    {
     "data": {
      "text/plain": [
       "Text(0.5, 1.0, '')"
      ]
     },
     "execution_count": 23,
     "metadata": {},
     "output_type": "execute_result"
    },
    {
     "data": {
      "text/plain": [
       "<Figure size 216x216 with 0 Axes>"
      ]
     },
     "execution_count": 23,
     "metadata": {},
     "output_type": "execute_result"
    },
    {
     "data": {
      "text/plain": [
       "[<matplotlib.lines.Line2D at 0x7f931bc8a690>]"
      ]
     },
     "execution_count": 23,
     "metadata": {},
     "output_type": "execute_result"
    },
    {
     "data": {
      "text/plain": [
       "[<matplotlib.lines.Line2D at 0x7f931c547410>]"
      ]
     },
     "execution_count": 23,
     "metadata": {},
     "output_type": "execute_result"
    },
    {
     "data": {
      "text/plain": [
       "[<matplotlib.lines.Line2D at 0x7f931c547850>]"
      ]
     },
     "execution_count": 23,
     "metadata": {},
     "output_type": "execute_result"
    },
    {
     "data": {
      "text/plain": [
       "[<matplotlib.lines.Line2D at 0x7f931c547190>]"
      ]
     },
     "execution_count": 23,
     "metadata": {},
     "output_type": "execute_result"
    },
    {
     "data": {
      "text/plain": [
       "(-0.05, 1.05, -0.05, 1.05)"
      ]
     },
     "execution_count": 23,
     "metadata": {},
     "output_type": "execute_result"
    },
    {
     "data": {
      "text/plain": [
       "(0.0, 1.0)"
      ]
     },
     "execution_count": 23,
     "metadata": {},
     "output_type": "execute_result"
    },
    {
     "data": {
      "text/plain": [
       "(0.0, 1.05)"
      ]
     },
     "execution_count": 23,
     "metadata": {},
     "output_type": "execute_result"
    },
    {
     "data": {
      "text/plain": [
       "Text(0.5, 0, 'Recall')"
      ]
     },
     "execution_count": 23,
     "metadata": {},
     "output_type": "execute_result"
    },
    {
     "data": {
      "text/plain": [
       "Text(0, 0.5, 'Precision')"
      ]
     },
     "execution_count": 23,
     "metadata": {},
     "output_type": "execute_result"
    },
    {
     "data": {
      "text/plain": [
       "Text(0.5, 1.0, '')"
      ]
     },
     "execution_count": 23,
     "metadata": {},
     "output_type": "execute_result"
    },
    {
     "data": {
      "text/plain": [
       "<Figure size 216x216 with 0 Axes>"
      ]
     },
     "execution_count": 23,
     "metadata": {},
     "output_type": "execute_result"
    },
    {
     "data": {
      "text/plain": [
       "[<matplotlib.lines.Line2D at 0x7f931c600790>]"
      ]
     },
     "execution_count": 23,
     "metadata": {},
     "output_type": "execute_result"
    },
    {
     "data": {
      "text/plain": [
       "[<matplotlib.lines.Line2D at 0x7f931c5baf10>]"
      ]
     },
     "execution_count": 23,
     "metadata": {},
     "output_type": "execute_result"
    },
    {
     "data": {
      "text/plain": [
       "[<matplotlib.lines.Line2D at 0x7f931c5bae10>]"
      ]
     },
     "execution_count": 23,
     "metadata": {},
     "output_type": "execute_result"
    },
    {
     "data": {
      "text/plain": [
       "[<matplotlib.lines.Line2D at 0x7f931c59e890>]"
      ]
     },
     "execution_count": 23,
     "metadata": {},
     "output_type": "execute_result"
    },
    {
     "data": {
      "text/plain": [
       "(-0.05, 1.05, -0.05, 1.05)"
      ]
     },
     "execution_count": 23,
     "metadata": {},
     "output_type": "execute_result"
    },
    {
     "data": {
      "text/plain": [
       "[<matplotlib.lines.Line2D at 0x7f931c5bae50>]"
      ]
     },
     "execution_count": 23,
     "metadata": {},
     "output_type": "execute_result"
    },
    {
     "data": {
      "text/plain": [
       "(0.0, 1.0)"
      ]
     },
     "execution_count": 23,
     "metadata": {},
     "output_type": "execute_result"
    },
    {
     "data": {
      "text/plain": [
       "(0.0, 1.05)"
      ]
     },
     "execution_count": 23,
     "metadata": {},
     "output_type": "execute_result"
    },
    {
     "data": {
      "text/plain": [
       "Text(0.5, 0, 'False Positive Rate')"
      ]
     },
     "execution_count": 23,
     "metadata": {},
     "output_type": "execute_result"
    },
    {
     "data": {
      "text/plain": [
       "Text(0, 0.5, 'True Positive Rate')"
      ]
     },
     "execution_count": 23,
     "metadata": {},
     "output_type": "execute_result"
    },
    {
     "data": {
      "text/plain": [
       "Text(0.5, 1.0, '')"
      ]
     },
     "execution_count": 23,
     "metadata": {},
     "output_type": "execute_result"
    },
    {
     "data": {
      "text/plain": [
       "<Figure size 216x216 with 0 Axes>"
      ]
     },
     "execution_count": 23,
     "metadata": {},
     "output_type": "execute_result"
    },
    {
     "data": {
      "text/plain": [
       "[<matplotlib.lines.Line2D at 0x7f931c43d310>]"
      ]
     },
     "execution_count": 23,
     "metadata": {},
     "output_type": "execute_result"
    },
    {
     "data": {
      "text/plain": [
       "[<matplotlib.lines.Line2D at 0x7f931c4bccd0>]"
      ]
     },
     "execution_count": 23,
     "metadata": {},
     "output_type": "execute_result"
    },
    {
     "data": {
      "text/plain": [
       "[<matplotlib.lines.Line2D at 0x7f931c4bcdd0>]"
      ]
     },
     "execution_count": 23,
     "metadata": {},
     "output_type": "execute_result"
    },
    {
     "data": {
      "text/plain": [
       "[<matplotlib.lines.Line2D at 0x7f931c300b10>]"
      ]
     },
     "execution_count": 23,
     "metadata": {},
     "output_type": "execute_result"
    },
    {
     "data": {
      "text/plain": [
       "(-0.05, 1.05, -0.05, 1.05)"
      ]
     },
     "execution_count": 23,
     "metadata": {},
     "output_type": "execute_result"
    },
    {
     "data": {
      "text/plain": [
       "(0.0, 1.0)"
      ]
     },
     "execution_count": 23,
     "metadata": {},
     "output_type": "execute_result"
    },
    {
     "data": {
      "text/plain": [
       "(0.0, 1.05)"
      ]
     },
     "execution_count": 23,
     "metadata": {},
     "output_type": "execute_result"
    },
    {
     "data": {
      "text/plain": [
       "Text(0.5, 0, 'Recall')"
      ]
     },
     "execution_count": 23,
     "metadata": {},
     "output_type": "execute_result"
    },
    {
     "data": {
      "text/plain": [
       "Text(0, 0.5, 'Precision')"
      ]
     },
     "execution_count": 23,
     "metadata": {},
     "output_type": "execute_result"
    },
    {
     "data": {
      "text/plain": [
       "Text(0.5, 1.0, '')"
      ]
     },
     "execution_count": 23,
     "metadata": {},
     "output_type": "execute_result"
    },
    {
     "data": {
      "text/plain": [
       "<Figure size 216x216 with 0 Axes>"
      ]
     },
     "execution_count": 23,
     "metadata": {},
     "output_type": "execute_result"
    },
    {
     "data": {
      "text/plain": [
       "[<matplotlib.lines.Line2D at 0x7f931bec5850>]"
      ]
     },
     "execution_count": 23,
     "metadata": {},
     "output_type": "execute_result"
    },
    {
     "data": {
      "text/plain": [
       "[<matplotlib.lines.Line2D at 0x7f931bb9ef10>]"
      ]
     },
     "execution_count": 23,
     "metadata": {},
     "output_type": "execute_result"
    },
    {
     "data": {
      "text/plain": [
       "[<matplotlib.lines.Line2D at 0x7f931bb9eed0>]"
      ]
     },
     "execution_count": 23,
     "metadata": {},
     "output_type": "execute_result"
    },
    {
     "data": {
      "text/plain": [
       "[<matplotlib.lines.Line2D at 0x7f931bbad890>]"
      ]
     },
     "execution_count": 23,
     "metadata": {},
     "output_type": "execute_result"
    },
    {
     "data": {
      "text/plain": [
       "(-0.05, 1.05, -0.05, 1.05)"
      ]
     },
     "execution_count": 23,
     "metadata": {},
     "output_type": "execute_result"
    },
    {
     "data": {
      "text/plain": [
       "[<matplotlib.lines.Line2D at 0x7f931bb9efd0>]"
      ]
     },
     "execution_count": 23,
     "metadata": {},
     "output_type": "execute_result"
    },
    {
     "data": {
      "text/plain": [
       "(0.0, 1.0)"
      ]
     },
     "execution_count": 23,
     "metadata": {},
     "output_type": "execute_result"
    },
    {
     "data": {
      "text/plain": [
       "(0.0, 1.05)"
      ]
     },
     "execution_count": 23,
     "metadata": {},
     "output_type": "execute_result"
    },
    {
     "data": {
      "text/plain": [
       "Text(0.5, 0, 'False Positive Rate')"
      ]
     },
     "execution_count": 23,
     "metadata": {},
     "output_type": "execute_result"
    },
    {
     "data": {
      "text/plain": [
       "Text(0, 0.5, 'True Positive Rate')"
      ]
     },
     "execution_count": 23,
     "metadata": {},
     "output_type": "execute_result"
    },
    {
     "data": {
      "text/plain": [
       "Text(0.5, 1.0, '')"
      ]
     },
     "execution_count": 23,
     "metadata": {},
     "output_type": "execute_result"
    },
    {
     "data": {
      "text/plain": [
       "<Figure size 216x216 with 0 Axes>"
      ]
     },
     "execution_count": 23,
     "metadata": {},
     "output_type": "execute_result"
    },
    {
     "data": {
      "text/plain": [
       "[<matplotlib.lines.Line2D at 0x7f931c273290>]"
      ]
     },
     "execution_count": 23,
     "metadata": {},
     "output_type": "execute_result"
    },
    {
     "data": {
      "text/plain": [
       "[<matplotlib.lines.Line2D at 0x7f931bb10cd0>]"
      ]
     },
     "execution_count": 23,
     "metadata": {},
     "output_type": "execute_result"
    },
    {
     "data": {
      "text/plain": [
       "[<matplotlib.lines.Line2D at 0x7f931bb10910>]"
      ]
     },
     "execution_count": 23,
     "metadata": {},
     "output_type": "execute_result"
    },
    {
     "data": {
      "text/plain": [
       "[<matplotlib.lines.Line2D at 0x7f931baedc90>]"
      ]
     },
     "execution_count": 23,
     "metadata": {},
     "output_type": "execute_result"
    },
    {
     "data": {
      "text/plain": [
       "(-0.05, 1.05, -0.05, 1.05)"
      ]
     },
     "execution_count": 23,
     "metadata": {},
     "output_type": "execute_result"
    },
    {
     "data": {
      "text/plain": [
       "(0.0, 1.0)"
      ]
     },
     "execution_count": 23,
     "metadata": {},
     "output_type": "execute_result"
    },
    {
     "data": {
      "text/plain": [
       "(0.0, 1.05)"
      ]
     },
     "execution_count": 23,
     "metadata": {},
     "output_type": "execute_result"
    },
    {
     "data": {
      "text/plain": [
       "Text(0.5, 0, 'Recall')"
      ]
     },
     "execution_count": 23,
     "metadata": {},
     "output_type": "execute_result"
    },
    {
     "data": {
      "text/plain": [
       "Text(0, 0.5, 'Precision')"
      ]
     },
     "execution_count": 23,
     "metadata": {},
     "output_type": "execute_result"
    },
    {
     "data": {
      "text/plain": [
       "Text(0.5, 1.0, '')"
      ]
     },
     "execution_count": 23,
     "metadata": {},
     "output_type": "execute_result"
    },
    {
     "data": {
      "text/plain": [
       "<Figure size 216x216 with 0 Axes>"
      ]
     },
     "execution_count": 23,
     "metadata": {},
     "output_type": "execute_result"
    },
    {
     "data": {
      "text/plain": [
       "[<matplotlib.lines.Line2D at 0x7f931aeff950>]"
      ]
     },
     "execution_count": 23,
     "metadata": {},
     "output_type": "execute_result"
    },
    {
     "data": {
      "text/plain": [
       "[<matplotlib.lines.Line2D at 0x7f931af25bd0>]"
      ]
     },
     "execution_count": 23,
     "metadata": {},
     "output_type": "execute_result"
    },
    {
     "data": {
      "text/plain": [
       "[<matplotlib.lines.Line2D at 0x7f931af2ec50>]"
      ]
     },
     "execution_count": 23,
     "metadata": {},
     "output_type": "execute_result"
    },
    {
     "data": {
      "text/plain": [
       "[<matplotlib.lines.Line2D at 0x7f931b97a3d0>]"
      ]
     },
     "execution_count": 23,
     "metadata": {},
     "output_type": "execute_result"
    },
    {
     "data": {
      "text/plain": [
       "(-0.05, 1.05, -0.05, 1.05)"
      ]
     },
     "execution_count": 23,
     "metadata": {},
     "output_type": "execute_result"
    },
    {
     "data": {
      "text/plain": [
       "[<matplotlib.lines.Line2D at 0x7f931b97a390>]"
      ]
     },
     "execution_count": 23,
     "metadata": {},
     "output_type": "execute_result"
    },
    {
     "data": {
      "text/plain": [
       "(0.0, 1.0)"
      ]
     },
     "execution_count": 23,
     "metadata": {},
     "output_type": "execute_result"
    },
    {
     "data": {
      "text/plain": [
       "(0.0, 1.05)"
      ]
     },
     "execution_count": 23,
     "metadata": {},
     "output_type": "execute_result"
    },
    {
     "data": {
      "text/plain": [
       "Text(0.5, 0, 'False Positive Rate')"
      ]
     },
     "execution_count": 23,
     "metadata": {},
     "output_type": "execute_result"
    },
    {
     "data": {
      "text/plain": [
       "Text(0, 0.5, 'True Positive Rate')"
      ]
     },
     "execution_count": 23,
     "metadata": {},
     "output_type": "execute_result"
    },
    {
     "data": {
      "text/plain": [
       "Text(0.5, 1.0, '')"
      ]
     },
     "execution_count": 23,
     "metadata": {},
     "output_type": "execute_result"
    },
    {
     "data": {
      "text/plain": [
       "Text(0, 0.5, 'AUROC')"
      ]
     },
     "execution_count": 23,
     "metadata": {},
     "output_type": "execute_result"
    },
    {
     "data": {
      "text/plain": [
       "Text(0, 0.5, 'AUPR')"
      ]
     },
     "execution_count": 23,
     "metadata": {},
     "output_type": "execute_result"
    },
    {
     "ename": "KeyError",
     "evalue": "'None'",
     "output_type": "error",
     "traceback": [
      "\u001b[0;31m---------------------------------------------------------------------------\u001b[0m",
      "\u001b[0;31mKeyError\u001b[0m                                  Traceback (most recent call last)",
      "\u001b[0;32m~/opt/anaconda3/lib/python3.7/site-packages/pandas/core/indexes/base.py\u001b[0m in \u001b[0;36mget_loc\u001b[0;34m(self, key, method, tolerance)\u001b[0m\n\u001b[1;32m   2645\u001b[0m             \u001b[0;32mtry\u001b[0m\u001b[0;34m:\u001b[0m\u001b[0;34m\u001b[0m\u001b[0;34m\u001b[0m\u001b[0m\n\u001b[0;32m-> 2646\u001b[0;31m                 \u001b[0;32mreturn\u001b[0m \u001b[0mself\u001b[0m\u001b[0;34m.\u001b[0m\u001b[0m_engine\u001b[0m\u001b[0;34m.\u001b[0m\u001b[0mget_loc\u001b[0m\u001b[0;34m(\u001b[0m\u001b[0mkey\u001b[0m\u001b[0;34m)\u001b[0m\u001b[0;34m\u001b[0m\u001b[0;34m\u001b[0m\u001b[0m\n\u001b[0m\u001b[1;32m   2647\u001b[0m             \u001b[0;32mexcept\u001b[0m \u001b[0mKeyError\u001b[0m\u001b[0;34m:\u001b[0m\u001b[0;34m\u001b[0m\u001b[0;34m\u001b[0m\u001b[0m\n",
      "\u001b[0;32mpandas/_libs/index.pyx\u001b[0m in \u001b[0;36mpandas._libs.index.IndexEngine.get_loc\u001b[0;34m()\u001b[0m\n",
      "\u001b[0;32mpandas/_libs/index.pyx\u001b[0m in \u001b[0;36mpandas._libs.index.IndexEngine.get_loc\u001b[0;34m()\u001b[0m\n",
      "\u001b[0;32mpandas/_libs/hashtable_class_helper.pxi\u001b[0m in \u001b[0;36mpandas._libs.hashtable.PyObjectHashTable.get_item\u001b[0;34m()\u001b[0m\n",
      "\u001b[0;32mpandas/_libs/hashtable_class_helper.pxi\u001b[0m in \u001b[0;36mpandas._libs.hashtable.PyObjectHashTable.get_item\u001b[0;34m()\u001b[0m\n",
      "\u001b[0;31mKeyError\u001b[0m: 'None'",
      "\nDuring handling of the above exception, another exception occurred:\n",
      "\u001b[0;31mKeyError\u001b[0m                                  Traceback (most recent call last)",
      "\u001b[0;32m<ipython-input-23-4a85bcd1aa85>\u001b[0m in \u001b[0;36m<module>\u001b[0;34m\u001b[0m\n\u001b[1;32m    180\u001b[0m \u001b[0;32mif\u001b[0m \u001b[0malt_genes\u001b[0m\u001b[0;34m[\u001b[0m\u001b[0;36m0\u001b[0m\u001b[0;34m]\u001b[0m \u001b[0;32mis\u001b[0m \u001b[0;32mnot\u001b[0m \u001b[0;34m'None'\u001b[0m\u001b[0;34m:\u001b[0m\u001b[0;34m\u001b[0m\u001b[0;34m\u001b[0m\u001b[0m\n\u001b[1;32m    181\u001b[0m     \u001b[0;31m# Classifying alternative mutations\u001b[0m\u001b[0;34m\u001b[0m\u001b[0;34m\u001b[0m\u001b[0;34m\u001b[0m\u001b[0m\n\u001b[0;32m--> 182\u001b[0;31m     \u001b[0my_alt\u001b[0m \u001b[0;34m=\u001b[0m \u001b[0mmutation_df\u001b[0m\u001b[0;34m[\u001b[0m\u001b[0malt_genes\u001b[0m\u001b[0;34m]\u001b[0m\u001b[0;34m\u001b[0m\u001b[0;34m\u001b[0m\u001b[0m\n\u001b[0m\u001b[1;32m    183\u001b[0m \u001b[0;34m\u001b[0m\u001b[0m\n\u001b[1;32m    184\u001b[0m     \u001b[0;31m# Add copy number info if applicable\u001b[0m\u001b[0;34m\u001b[0m\u001b[0;34m\u001b[0m\u001b[0;34m\u001b[0m\u001b[0m\n",
      "\u001b[0;32m~/opt/anaconda3/lib/python3.7/site-packages/pandas/core/frame.py\u001b[0m in \u001b[0;36m__getitem__\u001b[0;34m(self, key)\u001b[0m\n\u001b[1;32m   2798\u001b[0m             \u001b[0;32mif\u001b[0m \u001b[0mself\u001b[0m\u001b[0;34m.\u001b[0m\u001b[0mcolumns\u001b[0m\u001b[0;34m.\u001b[0m\u001b[0mnlevels\u001b[0m \u001b[0;34m>\u001b[0m \u001b[0;36m1\u001b[0m\u001b[0;34m:\u001b[0m\u001b[0;34m\u001b[0m\u001b[0;34m\u001b[0m\u001b[0m\n\u001b[1;32m   2799\u001b[0m                 \u001b[0;32mreturn\u001b[0m \u001b[0mself\u001b[0m\u001b[0;34m.\u001b[0m\u001b[0m_getitem_multilevel\u001b[0m\u001b[0;34m(\u001b[0m\u001b[0mkey\u001b[0m\u001b[0;34m)\u001b[0m\u001b[0;34m\u001b[0m\u001b[0;34m\u001b[0m\u001b[0m\n\u001b[0;32m-> 2800\u001b[0;31m             \u001b[0mindexer\u001b[0m \u001b[0;34m=\u001b[0m \u001b[0mself\u001b[0m\u001b[0;34m.\u001b[0m\u001b[0mcolumns\u001b[0m\u001b[0;34m.\u001b[0m\u001b[0mget_loc\u001b[0m\u001b[0;34m(\u001b[0m\u001b[0mkey\u001b[0m\u001b[0;34m)\u001b[0m\u001b[0;34m\u001b[0m\u001b[0;34m\u001b[0m\u001b[0m\n\u001b[0m\u001b[1;32m   2801\u001b[0m             \u001b[0;32mif\u001b[0m \u001b[0mis_integer\u001b[0m\u001b[0;34m(\u001b[0m\u001b[0mindexer\u001b[0m\u001b[0;34m)\u001b[0m\u001b[0;34m:\u001b[0m\u001b[0;34m\u001b[0m\u001b[0;34m\u001b[0m\u001b[0m\n\u001b[1;32m   2802\u001b[0m                 \u001b[0mindexer\u001b[0m \u001b[0;34m=\u001b[0m \u001b[0;34m[\u001b[0m\u001b[0mindexer\u001b[0m\u001b[0;34m]\u001b[0m\u001b[0;34m\u001b[0m\u001b[0;34m\u001b[0m\u001b[0m\n",
      "\u001b[0;32m~/opt/anaconda3/lib/python3.7/site-packages/pandas/core/indexes/base.py\u001b[0m in \u001b[0;36mget_loc\u001b[0;34m(self, key, method, tolerance)\u001b[0m\n\u001b[1;32m   2646\u001b[0m                 \u001b[0;32mreturn\u001b[0m \u001b[0mself\u001b[0m\u001b[0;34m.\u001b[0m\u001b[0m_engine\u001b[0m\u001b[0;34m.\u001b[0m\u001b[0mget_loc\u001b[0m\u001b[0;34m(\u001b[0m\u001b[0mkey\u001b[0m\u001b[0;34m)\u001b[0m\u001b[0;34m\u001b[0m\u001b[0;34m\u001b[0m\u001b[0m\n\u001b[1;32m   2647\u001b[0m             \u001b[0;32mexcept\u001b[0m \u001b[0mKeyError\u001b[0m\u001b[0;34m:\u001b[0m\u001b[0;34m\u001b[0m\u001b[0;34m\u001b[0m\u001b[0m\n\u001b[0;32m-> 2648\u001b[0;31m                 \u001b[0;32mreturn\u001b[0m \u001b[0mself\u001b[0m\u001b[0;34m.\u001b[0m\u001b[0m_engine\u001b[0m\u001b[0;34m.\u001b[0m\u001b[0mget_loc\u001b[0m\u001b[0;34m(\u001b[0m\u001b[0mself\u001b[0m\u001b[0;34m.\u001b[0m\u001b[0m_maybe_cast_indexer\u001b[0m\u001b[0;34m(\u001b[0m\u001b[0mkey\u001b[0m\u001b[0;34m)\u001b[0m\u001b[0;34m)\u001b[0m\u001b[0;34m\u001b[0m\u001b[0;34m\u001b[0m\u001b[0m\n\u001b[0m\u001b[1;32m   2649\u001b[0m         \u001b[0mindexer\u001b[0m \u001b[0;34m=\u001b[0m \u001b[0mself\u001b[0m\u001b[0;34m.\u001b[0m\u001b[0mget_indexer\u001b[0m\u001b[0;34m(\u001b[0m\u001b[0;34m[\u001b[0m\u001b[0mkey\u001b[0m\u001b[0;34m]\u001b[0m\u001b[0;34m,\u001b[0m \u001b[0mmethod\u001b[0m\u001b[0;34m=\u001b[0m\u001b[0mmethod\u001b[0m\u001b[0;34m,\u001b[0m \u001b[0mtolerance\u001b[0m\u001b[0;34m=\u001b[0m\u001b[0mtolerance\u001b[0m\u001b[0;34m)\u001b[0m\u001b[0;34m\u001b[0m\u001b[0;34m\u001b[0m\u001b[0m\n\u001b[1;32m   2650\u001b[0m         \u001b[0;32mif\u001b[0m \u001b[0mindexer\u001b[0m\u001b[0;34m.\u001b[0m\u001b[0mndim\u001b[0m \u001b[0;34m>\u001b[0m \u001b[0;36m1\u001b[0m \u001b[0;32mor\u001b[0m \u001b[0mindexer\u001b[0m\u001b[0;34m.\u001b[0m\u001b[0msize\u001b[0m \u001b[0;34m>\u001b[0m \u001b[0;36m1\u001b[0m\u001b[0;34m:\u001b[0m\u001b[0;34m\u001b[0m\u001b[0;34m\u001b[0m\u001b[0m\n",
      "\u001b[0;32mpandas/_libs/index.pyx\u001b[0m in \u001b[0;36mpandas._libs.index.IndexEngine.get_loc\u001b[0;34m()\u001b[0m\n",
      "\u001b[0;32mpandas/_libs/index.pyx\u001b[0m in \u001b[0;36mpandas._libs.index.IndexEngine.get_loc\u001b[0;34m()\u001b[0m\n",
      "\u001b[0;32mpandas/_libs/hashtable_class_helper.pxi\u001b[0m in \u001b[0;36mpandas._libs.hashtable.PyObjectHashTable.get_item\u001b[0;34m()\u001b[0m\n",
      "\u001b[0;32mpandas/_libs/hashtable_class_helper.pxi\u001b[0m in \u001b[0;36mpandas._libs.hashtable.PyObjectHashTable.get_item\u001b[0;34m()\u001b[0m\n",
      "\u001b[0;31mKeyError\u001b[0m: 'None'"
     ]
    }
   ],
   "source": [
    "disease_metrics = {}\n",
    "for disease in diseases:\n",
    "    # Get all samples in current disease\n",
    "    sample_sub = y_sub[y_sub == disease].index\n",
    "\n",
    "    # Get true and predicted training labels\n",
    "    y_disease_train = y_train[y_train.index.isin(sample_sub)]\n",
    "    if y_disease_train.sum() < 1:\n",
    "        continue\n",
    "    y_disease_predict_train = y_predict_train[y_train.index.isin(sample_sub)]\n",
    "\n",
    "    # Get true and predicted testing labels\n",
    "    y_disease_test = y_test[y_test.index.isin(sample_sub)]\n",
    "    if y_disease_test.sum() < 1:\n",
    "        continue\n",
    "    y_disease_predict_test = y_predict_test[y_test.index.isin(sample_sub)]\n",
    "\n",
    "    # Get predicted labels for samples when they were in cross validation set\n",
    "    # The true labels are y_pred_train\n",
    "    y_disease_predict_cv = y_cv[y_train.index.isin(sample_sub)]\n",
    "\n",
    "    # Get classifier performance metrics for three scenarios for each disease\n",
    "    met_train_dis = get_threshold_metrics(y_disease_train,\n",
    "                                          y_disease_predict_train,\n",
    "                                          disease=disease,\n",
    "                                          drop_intermediate=keep_inter)\n",
    "    met_test_dis = get_threshold_metrics(y_disease_test,\n",
    "                                         y_disease_predict_test,\n",
    "                                         disease=disease,\n",
    "                                         drop_intermediate=keep_inter)\n",
    "    met_cv_dis = get_threshold_metrics(y_disease_train,\n",
    "                                       y_disease_predict_cv,\n",
    "                                       disease=disease,\n",
    "                                       drop_intermediate=keep_inter)\n",
    "\n",
    "    # Get predictions and metrics with shuffled gene expression\n",
    "    if shuffled:\n",
    "        y_dis_predict_shuf = y_predict_shuffled[y_train.index.isin(sample_sub)]\n",
    "        met_shuff_dis = get_threshold_metrics(y_disease_train,\n",
    "                                              y_dis_predict_shuf,\n",
    "                                              disease=disease,\n",
    "                                              drop_intermediate=keep_inter)\n",
    "\n",
    "    if keep_inter:\n",
    "        train_roc = met_train_dis['roc_df']\n",
    "        train_roc = train_roc.assign(train_type='train')\n",
    "        test_roc = met_test_dis['roc_df']\n",
    "        test_roc = test_roc.assign(train_type='test')\n",
    "        cv_roc = met_cv_dis['roc_df']\n",
    "        cv_roc = cv_roc.assign(train_type='cv')\n",
    "        full_dis_roc_df = train_roc.append(test_roc).append(cv_roc)\n",
    "\n",
    "        if shuffled:\n",
    "            shuffled_roc = met_shuff_dis['roc_df']\n",
    "            shuffled_roc = shuffled_roc.assign(train_type='shuffled')\n",
    "            full_dis_roc_df = full_dis_roc_df.append(shuffled_roc)\n",
    "\n",
    "        full_dis_roc_df = full_dis_roc_df.assign(disease=disease)\n",
    "        full_roc_df = full_roc_df.append(full_dis_roc_df)\n",
    "\n",
    "    # Store results in disease indexed dictionary\n",
    "    disease_metrics[disease] = [met_train_dis, met_test_dis, met_cv_dis]\n",
    "\n",
    "    if shuffled:\n",
    "        disease_metrics[disease] += [met_shuff_dis]\n",
    "\n",
    "disease_auroc = {}\n",
    "disease_aupr = {}\n",
    "for disease, metrics_val in disease_metrics.items():\n",
    "\n",
    "    labels = ['Training', 'Testing', 'CV', 'Random']\n",
    "    met_list = []\n",
    "    idx = 0\n",
    "    for met in metrics_val:\n",
    "        lab = labels[idx]\n",
    "        met_list.append((lab, met))\n",
    "        idx += 1\n",
    "\n",
    "    disease_pr_sub_file = '{}_pred_{}.pdf'.format(\"disease_pr_file.pdf\", disease)\n",
    "    disease_roc_sub_file = '{}_pred_{}.pdf'.format('disease_roc_file.pdf', disease)\n",
    "\n",
    "    # Plot disease specific PR\n",
    "    plt.figure(figsize=(3, 3))\n",
    "    aupr = []\n",
    "    idx = 0\n",
    "    for label, metrics in met_list:\n",
    "        pr_df = metrics['pr_df']\n",
    "        plt.plot(pr_df.recall, pr_df.precision,\n",
    "                 label='{} (AUPR = {:.1%})'.format(label, metrics['aupr']),\n",
    "                 linewidth=1, c=colors[idx])\n",
    "        aupr.append(metrics['aupr'])\n",
    "        idx += 1\n",
    "    disease_aupr[disease] = aupr\n",
    "\n",
    "    plt.axis('equal')\n",
    "    plt.xlim([0.0, 1.0])\n",
    "    plt.ylim([0.0, 1.05])\n",
    "    plt.xlabel('Recall', fontsize=8)\n",
    "    plt.ylabel('Precision', fontsize=8)\n",
    "    plt.title('')\n",
    "    plt.tick_params(labelsize=8)\n",
    "    lgd = plt.legend(bbox_to_anchor=(1.03, 0.85),\n",
    "                     loc=2,\n",
    "                     borderaxespad=0.,\n",
    "                     fontsize=7.5)\n",
    "\n",
    "    plt.savefig(disease_pr_sub_file, dpi=600, bbox_extra_artists=(lgd,),\n",
    "                bbox_inches='tight')\n",
    "    plt.close()\n",
    "\n",
    "    # Plot disease specific ROC\n",
    "    plt.figure(figsize=(3, 3))\n",
    "    auroc = []\n",
    "    idx = 0\n",
    "    for label, metrics in met_list:\n",
    "        roc_df = metrics['roc_df']\n",
    "        plt.plot(roc_df.fpr, roc_df.tpr,\n",
    "                 label='{} (AUROC = {:.1%})'.format(label, metrics['auroc']),\n",
    "                 linewidth=1, c=colors[idx])\n",
    "        auroc.append(metrics['auroc'])\n",
    "        idx += 1\n",
    "    disease_auroc[disease] = auroc\n",
    "\n",
    "    plt.axis('equal')\n",
    "    plt.plot([0, 1], [0, 1], color='navy', linewidth=1, linestyle='--')\n",
    "    plt.xlim([0.0, 1.0])\n",
    "    plt.ylim([0.0, 1.05])\n",
    "    plt.xlabel('False Positive Rate', fontsize=8)\n",
    "    plt.ylabel('True Positive Rate', fontsize=8)\n",
    "    plt.title('')\n",
    "    plt.tick_params(labelsize=8)\n",
    "    lgd = plt.legend(bbox_to_anchor=(1.03, 0.85),\n",
    "                     loc=2,\n",
    "                     borderaxespad=0.,\n",
    "                     fontsize=7.5)\n",
    "\n",
    "    plt.savefig(disease_roc_sub_file, dpi=600, bbox_extra_artists=(lgd,),\n",
    "                bbox_inches='tight')\n",
    "    plt.close()\n",
    "\n",
    "index_lab = ['Train', 'Test', 'Cross Validation']\n",
    "\n",
    "if shuffled:\n",
    "    index_lab += ['Random']\n",
    "\n",
    "disease_auroc_df = pd.DataFrame(disease_auroc, index=index_lab).T\n",
    "disease_auroc_df = disease_auroc_df.sort_values('Cross Validation',\n",
    "                                                ascending=False)\n",
    "ax = disease_auroc_df.plot(kind='bar', title='Disease Specific Performance')\n",
    "ax.set_ylabel('AUROC')\n",
    "plt.tight_layout()\n",
    "plt.savefig(\"dis_summary_auroc_file.pdf\", dpi=600, bbox_inches='tight')\n",
    "plt.close()\n",
    "\n",
    "disease_aupr_df = pd.DataFrame(disease_aupr, index=index_lab).T\n",
    "disease_aupr_df = disease_aupr_df.sort_values('Cross Validation',\n",
    "                                              ascending=False)\n",
    "ax = disease_aupr_df.plot(kind='bar', title='Disease Specific Performance')\n",
    "ax.set_ylabel('AUPR')\n",
    "plt.tight_layout()\n",
    "plt.savefig(\"dis_summary_aupr_file.pdf\", dpi=600, bbox_inches='tight')\n",
    "plt.close()\n",
    "\n",
    "# Save classifier coefficients\n",
    "final_pipeline = cv_pipeline.best_estimator_\n",
    "final_classifier = final_pipeline.named_steps['classify']\n",
    "\n",
    "coef_df = pd.DataFrame.from_dict(\n",
    "    {'feature': x_df.columns,\n",
    "     'weight': final_classifier.coef_[0]})\n",
    "\n",
    "coef_df['abs'] = coef_df['weight'].abs()\n",
    "coef_df = coef_df.sort_values('abs', ascending=False)\n",
    "coef_df.to_csv(\"classifier_file.csv\", sep='\\t')\n",
    "\n",
    "if keep_inter:\n",
    "    full_roc_df.to_csv(\"roc_results_file.csv\", sep='\\t')\n",
    "\n",
    "# Apply the same classifier previously built to predict alternative genes\n",
    "if alt_genes[0] is not 'None':\n",
    "    # Classifying alternative mutations\n",
    "    y_alt = mutation_df[alt_genes]\n",
    "\n",
    "    # Add copy number info if applicable\n",
    "    if copy_number:\n",
    "        y_alt = integrate_copy_number(y=y_alt, cancer_genes_df=cancer_genes,\n",
    "                                      genes=alt_genes, loss_df=copy_loss_df,\n",
    "                                      gain_df=copy_gain_df)\n",
    "    # Append disease id\n",
    "    y_alt = y_alt.assign(total_status=y_alt.max(axis=1))\n",
    "    y_alt = y_alt.reset_index().merge(sample_freeze,\n",
    "                                      how='left').set_index('SAMPLE_BARCODE')\n",
    "\n",
    "    # Filter data\n",
    "    alt_count_df = y_alt.groupby('DISEASE').sum()\n",
    "    alt_prop_df = alt_count_df.divide(y_alt['DISEASE'].value_counts(sort=False)\n",
    "                                                      .sort_index(), axis=0)\n",
    "\n",
    "    alt_count_table = alt_count_df.merge(alt_prop_df,\n",
    "                                         left_index=True,\n",
    "                                         right_index=True,\n",
    "                                         suffixes=('_count', '_proportion'))\n",
    "    alt_count_table.to_csv(\"alt_count_table_file.csv\")\n",
    "\n",
    "    mut_co = alt_count_df['total_status']\n",
    "    prop = alt_prop_df['total_status']\n",
    "\n",
    "    if alt_diseases[0] == 'Auto':\n",
    "        alt_filter_dis = (mut_co > alt_filter_count) & (prop > alt_filter_prop)\n",
    "        alt_diseases = alt_filter_dis.index[alt_filter_dis].tolist()\n",
    "\n",
    "    # Subset data\n",
    "    y_alt_df = y_alt[y_alt.DISEASE.isin(alt_diseases)].total_status\n",
    "    common_alt_samples = list(set(y_alt_df.index) & set(rnaseq_full_df.index))\n",
    "\n",
    "    y_alt_df = y_alt_df.loc[common_alt_samples]\n",
    "    rnaseq_alt_df = rnaseq_full_df.loc[y_alt_df.index, :]\n",
    "\n",
    "    y_alt_matrix = mut_burden.merge(pd.DataFrame(y_alt_df), right_index=True,\n",
    "                                    left_on='SAMPLE_BARCODE')\\\n",
    "                             .set_index('SAMPLE_BARCODE')\n",
    "\n",
    "    # Add Covariate Info to alternative y matrix\n",
    "    y_alt_sub = y_alt.loc[y_alt_matrix.index]['DISEASE']\n",
    "    covar_dummy_alt = pd.get_dummies(sample_freeze['DISEASE']).astype(int)\n",
    "    covar_dummy_alt.index = sample_freeze['SAMPLE_BARCODE']\n",
    "    covar_alt = covar_dummy_alt.merge(y_alt_matrix, right_index=True,\n",
    "                                      left_index=True)\n",
    "    covar_alt = covar_alt.drop('total_status', axis=1)\n",
    "    y_alt_df = y_alt_df.loc[y_alt_sub.index]\n",
    "\n",
    "    # Process alternative x matrix\n",
    "    x_alt_df = rnaseq_alt_df.loc[y_alt_df.index, :]\n",
    "    if x_matrix == 'raw':\n",
    "        x_alt_df = x_alt_df.loc[:, mad_genes]\n",
    "\n",
    "    x_alt_df_update = pd.DataFrame(fitted_scaler.transform(x_alt_df),\n",
    "                                   columns=x_alt_df.columns)\n",
    "    x_alt_df_update.index = x_alt_df.index\n",
    "    x_alt_df = x_alt_df_update.merge(covar_alt, left_index=True,\n",
    "                                     right_index=True)\n",
    "\n",
    "    # Apply the previously fit model to predict the alternate Y matrix\n",
    "    y_alt_cv = cv_pipeline.decision_function(X=x_alt_df)\n",
    "    alt_metrics_cv = get_threshold_metrics(y_alt_df, y_alt_cv,\n",
    "                                           drop_intermediate=keep_inter)\n",
    "\n",
    "    validation_metrics = {}\n",
    "    val_x_type = {}\n",
    "    for disease in alt_diseases:\n",
    "        sample_dis = y_alt_sub[y_alt_sub == disease].index\n",
    "\n",
    "        # Subset full data if it has not been trained on\n",
    "        if disease not in diseases:\n",
    "            x_sub = x_alt_df.loc[sample_dis]\n",
    "            y_sub = y_alt_df[sample_dis]\n",
    "            category = 'Full'\n",
    "\n",
    "        # Only subset to the holdout set if data was trained on\n",
    "        else:\n",
    "            x_sub = x_test.loc[x_test.index.isin(sample_dis)]\n",
    "            y_sub = y_test[y_test.index.isin(sample_dis)]\n",
    "            category = 'Holdout'\n",
    "\n",
    "        # If there are not enough classes do not proceed to plot\n",
    "        if y_sub.sum() < 1:\n",
    "            continue\n",
    "\n",
    "        neg, pos = y_sub.value_counts()\n",
    "        val_x_type[disease] = [category, neg, pos]\n",
    "        y_pred_alt = cv_pipeline.decision_function(x_sub)\n",
    "        y_pred_alt_cv = y_alt_cv[y_alt_df.index.isin(y_sub.index)]\n",
    "\n",
    "        alt_metrics_dis = get_threshold_metrics(y_sub, y_pred_alt,\n",
    "                                                disease=disease,\n",
    "                                                drop_intermediate=keep_inter)\n",
    "        alt_metrics_di_cv = get_threshold_metrics(y_sub, y_pred_alt_cv,\n",
    "                                                  disease=disease,\n",
    "                                                  drop_intermediate=keep_inter)\n",
    "        validation_metrics[disease] = [alt_metrics_dis, alt_metrics_di_cv]\n",
    "\n",
    "    # Compile a summary dataframe\n",
    "    val_x_type = pd.DataFrame.from_dict(val_x_type)\n",
    "    val_x_type.index = ['class', 'negatives', 'positives']\n",
    "    val_x_type.to_csv(\"alt_gene_summary_file.csv\", sep='\\t')\n",
    "\n",
    "    alt_disease_auroc = {}\n",
    "    alt_disease_aupr = {}\n",
    "    for disease, metrics_val in validation_metrics.items():\n",
    "        met_test, met_cv = metrics_val\n",
    "        alt_disease_auroc[disease] = [met_test['auroc'], met_cv['auroc']]\n",
    "        alt_disease_aupr[disease] = [met_test['aupr'], met_cv['aupr']]\n",
    "\n",
    "    # Plot alternative gene cancer-type specific AUROC plots\n",
    "    alt_disease_auroc_df = pd.DataFrame(alt_disease_auroc,\n",
    "                                        index=['Hold Out', 'Full Data']).T\n",
    "    alt_disease_auroc_df = alt_disease_auroc_df.sort_values('Full Data',\n",
    "                                                            ascending=False)\n",
    "    ax = alt_disease_auroc_df.plot(kind='bar', title='Alt Gene Performance')\n",
    "    ax.set_ylim([0, 1])\n",
    "    ax.set_ylabel('AUROC')\n",
    "    plt.tight_layout()\n",
    "    plt.savefig(alt_gene_auroc_file, dpi=600, bbox_inches='tight')\n",
    "    plt.close()\n",
    "\n",
    "    # Plot alternative gene cancer-type specific AUPR plots\n",
    "    alt_disease_aupr_df = pd.DataFrame(alt_disease_aupr,\n",
    "                                       index=['Hold Out', 'Full Data']).T\n",
    "    alt_disease_aupr_df = alt_disease_aupr_df.sort_values('Full Data',\n",
    "                                                          ascending=False)\n",
    "    ax = alt_disease_aupr_df.plot(kind='bar', title='Alt Gene Performance')\n",
    "    ax.set_ylim([0, 1])\n",
    "    ax.set_ylabel('AUPR')\n",
    "    plt.tight_layout()\n",
    "    plt.savefig(alt_gene_aupr_file, dpi=600, bbox_inches='tight')\n",
    "    plt.close()\n",
    "\n",
    "# Write a summary for the inputs and outputs of the classifier\n",
    "with open(os.path.join(base_folder, 'classifier_summary.txt'), 'w') as sum_fh:\n",
    "    summarywriter = csv.writer(sum_fh, delimiter='\\t')\n",
    "\n",
    "    # Summarize parameters\n",
    "    summarywriter.writerow(['Parameters:'])\n",
    "    summarywriter.writerow(['Genes:'] + genes)\n",
    "    summarywriter.writerow(['Diseases:'] + diseases)\n",
    "    summarywriter.writerow(['Alternative Genes:'] + alt_genes)\n",
    "    summarywriter.writerow(['Alternative Diseases:'] + alt_diseases)\n",
    "    summarywriter.writerow(['Number of Features:', str(x_df.shape[1])])\n",
    "    summarywriter.writerow(['Drop Gene:', drop])\n",
    "    summarywriter.writerow(['Copy Number:', copy_number])\n",
    "    summarywriter.writerow(['Alphas:'] + alphas)\n",
    "    summarywriter.writerow(['L1_ratios:'] + l1_ratios)\n",
    "    summarywriter.writerow(['Hypermutated Removed:', str(remove_hyper)])\n",
    "    summarywriter.writerow([])\n",
    "\n",
    "    # Summaryize results\n",
    "    summarywriter.writerow(['Results:'])\n",
    "    summarywriter.writerow(['Optimal Alpha:',\n",
    "                            str(cv_pipeline.best_params_['classify__alpha'])])\n",
    "    summarywriter.writerow(['Optimal L1:', str(cv_pipeline.best_params_\n",
    "                                               ['classify__l1_ratio'])])\n",
    "    summarywriter.writerow(['Coefficients:', classifier_file])\n",
    "    summarywriter.writerow(['Training AUROC:', metrics_train['auroc']])\n",
    "    summarywriter.writerow(['Testing AUROC:', metrics_test['auroc']])\n",
    "    summarywriter.writerow(['Cross Validation AUROC', metrics_cv['auroc']])\n",
    "    summarywriter.writerow(['Training AUPR:', metrics_train['aupr']])\n",
    "    summarywriter.writerow(['Testing AUPR:', metrics_test['aupr']])\n",
    "    summarywriter.writerow(['Cross Validation AUPR:', metrics_cv['aupr']])\n",
    "    summarywriter.writerow(['Disease specific performance:'])\n",
    "    for disease, auroc in disease_auroc.items():\n",
    "        summarywriter.writerow(['', disease, 'Training AUROC:', auroc[0],\n",
    "                                'Testing AUROC:', auroc[1],\n",
    "                                'Cross Validation AUROC:', auroc[2]])\n",
    "    for disease, aupr in disease_aupr.items():\n",
    "        summarywriter.writerow(['', disease, 'Training AUPR:', aupr[0],\n",
    "                                'Testing AUPR:', aupr[1],\n",
    "                                'Cross Validation AUPR:', aupr[2]])\n",
    "    if alt_genes[0] is not 'None':\n",
    "        summarywriter.writerow(['Alternate gene performance:'] + alt_genes)\n",
    "        summarywriter.writerow(['Alternative gene AUROC:',\n",
    "                                str(alt_metrics_cv['auroc'])])\n",
    "        summarywriter.writerow(['Alternative gene AUPR:',\n",
    "                                str(alt_metrics_cv['aupr'])])\n",
    "        for alt_dis, alt_auroc in alt_disease_auroc.items():\n",
    "            summarywriter.writerow(['', alt_dis,\n",
    "                                    'Holdout AUROC:', alt_auroc[0],\n",
    "                                    'Full Data AUROC:', alt_auroc[1],\n",
    "                                    'Category:', val_x_type[alt_dis]['class'],\n",
    "                                    'num_positive:',\n",
    "                                    str(val_x_type[alt_dis]['positives']),\n",
    "                                    'num_negatives:',\n",
    "                                    str(val_x_type[alt_dis]['negatives'])])\n",
    "        for alt_dis, alt_aupr in alt_disease_aupr.items():\n",
    "            summarywriter.writerow(['', alt_dis,\n",
    "                                    'Holdout AUPR:', alt_aupr[0],\n",
    "                                    'Full Data AUPR:', alt_aupr[1],\n",
    "                                    'Category:', val_x_type[alt_dis]['class'],\n",
    "                                    'num_positive:',\n",
    "                                    str(val_x_type[alt_dis]['positives']),\n",
    "                                    'num_negatives:',\n",
    "                                    str(val_x_type[alt_dis]['negatives'])])\n"
   ]
  },
  {
   "cell_type": "code",
   "execution_count": null,
   "metadata": {},
   "outputs": [],
   "source": []
  },
  {
   "cell_type": "code",
   "execution_count": 1,
   "metadata": {
    "ExecuteTime": {
     "end_time": "2020-06-02T08:24:52.751623Z",
     "start_time": "2020-06-02T08:24:52.748786Z"
    }
   },
   "outputs": [
    {
     "name": "stdout",
     "output_type": "stream",
     "text": [
      "1\n"
     ]
    }
   ],
   "source": [
    "if True:\n",
    "    print(1)"
   ]
  },
  {
   "cell_type": "code",
   "execution_count": null,
   "metadata": {},
   "outputs": [],
   "source": []
  },
  {
   "cell_type": "code",
   "execution_count": null,
   "metadata": {},
   "outputs": [],
   "source": []
  },
  {
   "cell_type": "code",
   "execution_count": null,
   "metadata": {},
   "outputs": [],
   "source": []
  },
  {
   "cell_type": "code",
   "execution_count": null,
   "metadata": {},
   "outputs": [],
   "source": []
  },
  {
   "cell_type": "code",
   "execution_count": null,
   "metadata": {},
   "outputs": [],
   "source": []
  },
  {
   "cell_type": "code",
   "execution_count": null,
   "metadata": {},
   "outputs": [],
   "source": []
  },
  {
   "cell_type": "code",
   "execution_count": null,
   "metadata": {},
   "outputs": [],
   "source": []
  },
  {
   "cell_type": "code",
   "execution_count": null,
   "metadata": {},
   "outputs": [],
   "source": []
  },
  {
   "cell_type": "code",
   "execution_count": null,
   "metadata": {},
   "outputs": [],
   "source": []
  },
  {
   "cell_type": "code",
   "execution_count": null,
   "metadata": {},
   "outputs": [],
   "source": []
  }
 ],
 "metadata": {
  "kernelspec": {
   "display_name": "Python 3",
   "language": "python",
   "name": "python3"
  },
  "language_info": {
   "codemirror_mode": {
    "name": "ipython",
    "version": 3
   },
   "file_extension": ".py",
   "mimetype": "text/x-python",
   "name": "python",
   "nbconvert_exporter": "python",
   "pygments_lexer": "ipython3",
   "version": "3.7.6"
  },
  "toc": {
   "base_numbering": 1,
   "nav_menu": {},
   "number_sections": true,
   "sideBar": true,
   "skip_h1_title": false,
   "title_cell": "Table of Contents",
   "title_sidebar": "Contents",
   "toc_cell": false,
   "toc_position": {},
   "toc_section_display": true,
   "toc_window_display": false
  },
  "varInspector": {
   "cols": {
    "lenName": 16,
    "lenType": 16,
    "lenVar": 40
   },
   "kernels_config": {
    "python": {
     "delete_cmd_postfix": "",
     "delete_cmd_prefix": "del ",
     "library": "var_list.py",
     "varRefreshCmd": "print(var_dic_list())"
    },
    "r": {
     "delete_cmd_postfix": ") ",
     "delete_cmd_prefix": "rm(",
     "library": "var_list.r",
     "varRefreshCmd": "cat(var_dic_list()) "
    }
   },
   "types_to_exclude": [
    "module",
    "function",
    "builtin_function_or_method",
    "instance",
    "_Feature"
   ],
   "window_display": false
  }
 },
 "nbformat": 4,
 "nbformat_minor": 4
}
