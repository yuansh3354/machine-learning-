{
 "cells": [
  {
   "cell_type": "markdown",
   "metadata": {},
   "source": [
    "### Initial Environment"
   ]
  },
  {
   "cell_type": "code",
   "execution_count": 1,
   "metadata": {
    "ExecuteTime": {
     "end_time": "2020-12-21T15:55:40.840059Z",
     "start_time": "2020-12-21T15:55:38.862746Z"
    }
   },
   "outputs": [],
   "source": [
    "%matplotlib inline\n",
    "%config InlineBackend.figure_format = 'svg'\n",
    "from myexptorch import *"
   ]
  },
  {
   "cell_type": "markdown",
   "metadata": {},
   "source": [
    "### Load scData initialization"
   ]
  },
  {
   "cell_type": "code",
   "execution_count": 2,
   "metadata": {
    "ExecuteTime": {
     "end_time": "2020-12-21T15:55:42.714255Z",
     "start_time": "2020-12-21T15:55:42.085838Z"
    }
   },
   "outputs": [],
   "source": [
    "# df = pd.read_csv('processfile/scale_df.csv',index_col=0)\n",
    "# h5 = pd.HDFStore('processfile/scale_df.h5','w', complevel=4, complib='blosc')\n",
    "# h5['data'] = df\n",
    "# h5.close()\n",
    "df = pd.read_hdf('../processfile/scale_df.h5',key='data')\n",
    "df = df.T\n",
    "\n",
    "# make map to lock every sample\n",
    "cellinfo = pd.DataFrame(df.index,index=df.index,columns=['cell_index'])\n",
    "cellinfo['id'] = range(1,df.shape[0]+1)\n",
    "\n",
    "# create x, y\n",
    "x = expToTorch(df)\n",
    "y = labelTotorch(cellinfo.id)    \n",
    "train_iter = makeDataiter(x,y,batch_szie=1024)"
   ]
  },
  {
   "cell_type": "code",
   "execution_count": 15,
   "metadata": {
    "ExecuteTime": {
     "end_time": "2020-12-21T16:09:37.768189Z",
     "start_time": "2020-12-21T16:09:37.761125Z"
    },
    "code_folding": [
     2,
     24
    ]
   },
   "outputs": [],
   "source": [
    "class AutoEncoder(pl.LightningModule):\n",
    "    # 1. 初始化模型\n",
    "    def __init__(self):\n",
    "        super(AutoEncoder,self).__init__()\n",
    "        self.encoder  =  nn.Sequential(\n",
    "            nn.Linear(2000,1000),\n",
    "            nn.ReLU(),\n",
    "            nn.Linear(1000,500),\n",
    "            nn.ReLU(),\n",
    "            nn.Linear(500, 250),\n",
    "            nn.ReLU(),\n",
    "            nn.Linear(250, 125)\n",
    "            )\n",
    "        \n",
    "        self.decoder = nn.Sequential(\n",
    "            nn.Linear(125,250),\n",
    "            nn.ReLU(),\n",
    "            nn.Linear(250, 500),\n",
    "            nn.ReLU(),\n",
    "            nn.Linear(500, 1000),\n",
    "            nn.ReLU(),\n",
    "            nn.Linear(1000,2000)\n",
    "            )\n",
    "              \n",
    "    def forward(self, x):\n",
    "        encoded = self.encoder(x)\n",
    "        decoded = self.decoder(encoded)\n",
    "        return encoded,decoded\n",
    "    \n",
    "    # 2. 定义损失函数\n",
    "    def myloss(self, decoded, labels):\n",
    "        return F.mse_loss(decoded, labels) # 不可以使用nn模块\n",
    "    \n",
    "    # 3. 定义优化器\n",
    "    def configure_optimizers(self):\n",
    "        optimizer = torch.optim.Adam(self.parameters(), lr=1e-3)\n",
    "        return optimizer\n",
    "    \n",
    "    # 4. 训练loop\n",
    "    def training_step(self, train_batch, batch_ix):\n",
    "        x, y = train_batch\n",
    "        encoded,decoded = self.forward(x)\n",
    "        loss = self.myloss(decoded, x)\n",
    "        \n",
    "        logs = {'train_loss': loss} # 记录每一次训练的loss\n",
    "        return {'loss' : loss, 'log':logs}\n",
    "    \n",
    "    ## 5. 验证loop\n",
    "    #def validation_step(self, val_batch, batch_ix):\n",
    "    #    x, y = val_batch\n",
    "    #    logist = self.forward(x)\n",
    "    #    loss = self.myloss(logis, x)\n",
    "    #    return {'val' : loss}\n",
    "    #\n",
    "    #def validation_step_end(self, output):\n",
    "    #    # 验证后调用\n",
    "    #    # 这里的output是由上一步的输出，是一个array类型\n",
    "    #    avg_loss = torch.stack([x['val_loss'] for x in outputs]).mean()\n",
    "    #    tensorboard_logs = {'val_loss': avg_loss} \n",
    "    #    return {'avg_val_loss': avg_loss, 'log': tensorboard_logs}"
   ]
  },
  {
   "cell_type": "code",
   "execution_count": 16,
   "metadata": {
    "ExecuteTime": {
     "end_time": "2020-12-21T16:10:55.866604Z",
     "start_time": "2020-12-21T16:09:38.781231Z"
    }
   },
   "outputs": [
    {
     "name": "stderr",
     "output_type": "stream",
     "text": [
      "GPU available: True, used: True\n",
      "TPU available: None, using: 0 TPU cores\n",
      "LOCAL_RANK: 0 - CUDA_VISIBLE_DEVICES: [0]\n",
      "\n",
      "  | Name    | Type       | Params\n",
      "---------------------------------------\n",
      "0 | encoder | Sequential | 2.7 M \n",
      "1 | decoder | Sequential | 2.7 M \n",
      "---------------------------------------\n",
      "5.3 M     Trainable params\n",
      "0         Non-trainable params\n",
      "5.3 M     Total params\n"
     ]
    },
    {
     "data": {
      "application/vnd.jupyter.widget-view+json": {
       "model_id": "a275cfe65351478a94e9634424112e72",
       "version_major": 2,
       "version_minor": 0
      },
      "text/plain": [
       "HBox(children=(HTML(value='Training'), FloatProgress(value=1.0, bar_style='info', layout=Layout(flex='2'), max…"
      ]
     },
     "metadata": {},
     "output_type": "display_data"
    },
    {
     "name": "stdout",
     "output_type": "stream",
     "text": [
      "\n"
     ]
    },
    {
     "data": {
      "text/plain": [
       "1"
      ]
     },
     "execution_count": 16,
     "metadata": {},
     "output_type": "execute_result"
    }
   ],
   "source": [
    "model = AutoEncoder()\n",
    "trainer = pl.Trainer(gpus=-1,auto_scale_batch_size= True)\n",
    "trainer.fit(model, train_iter)"
   ]
  },
  {
   "cell_type": "code",
   "execution_count": null,
   "metadata": {},
   "outputs": [],
   "source": []
  }
 ],
 "metadata": {
  "kernelspec": {
   "display_name": "Python 3",
   "language": "python",
   "name": "python3"
  },
  "language_info": {
   "codemirror_mode": {
    "name": "ipython",
    "version": 3
   },
   "file_extension": ".py",
   "mimetype": "text/x-python",
   "name": "python",
   "nbconvert_exporter": "python",
   "pygments_lexer": "ipython3",
   "version": "3.8.5"
  }
 },
 "nbformat": 4,
 "nbformat_minor": 4
}
